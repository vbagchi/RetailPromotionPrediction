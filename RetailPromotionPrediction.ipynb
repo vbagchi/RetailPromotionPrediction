{
 "cells": [
  {
   "attachments": {},
   "cell_type": "markdown",
   "metadata": {},
   "source": [
    "# Retail Promotion Classification-Prediction Problem\n",
    "## Vasundhara Bagchi, Elizabeth Slesarev, and Paul Beltran \n",
    "\n",
    "Through this project, we are aiming to use retail sales data to understand how the stores could run a personalized and targeted promotional campaigns based on customers' purchasing patterns in different categories. \n",
    "\n",
    "This project would allow retail stores, particularly one without a lot of resources dedicated to promotional material, to optimize their promotional campaigns by identifying the most effective customer profiles to target with their marketing efforts. This approach can save retailers significant resources and effort by avoiding a standarized approach to promotions, which can be less effective and less efficient. Instead, stores can target specific customer segments based on their preferences in shopping categories, past purchasing behaviors, and other factors to maximize the effectiveness of their promotions.\n",
    "\n",
    "**Part 1:**\n",
    "\n",
    "Our initial problem statement focuses on predicting whether or not we should market to a customer based on the amount of money they spent in a certain category when focusing on promotional material for that category. However, we soon run into issues regarding [] and have to take a different approach to tackling this overall task. \n",
    "\n",
    "**Part 2:**\n",
    "\n",
    "Our updated problem statement now focuses on a predictive model for shopper segmentation, where shoppers are grouped into distinct categories based on their preferences and purchase patterns. Eg: Technology enthusiasts, food connoisseurs, fashion-conscious individuals, and beauty enthusiasts.\n",
    "This segmentation would help businesses optimize marketing strategies through targeted promotional campaigns and personalized recommendations to ultimately increase customer retention while optimizing their resources.\n",
    "\n",
    "**Part 3:**\n",
    "\n",
    "Let's do an extra classification, is our data truly seperable?\n",
    "\n",
    "### About the dataset \n",
    "This particular dataset contains data from various age groups and genders several categories from 10 shopping malls in Istanbul, Turkey. \n",
    "\n",
    "Data Source: https://www.kaggle.com/datasets/mehmettahiraslan/customer-shopping-dataset"
   ]
  },
  {
   "attachments": {},
   "cell_type": "markdown",
   "metadata": {},
   "source": [
    "### Step 1: Data Cleaning and Preprocessing"
   ]
  },
  {
   "attachments": {},
   "cell_type": "markdown",
   "metadata": {},
   "source": [
    "Imports"
   ]
  },
  {
   "cell_type": "code",
   "execution_count": 59,
   "metadata": {},
   "outputs": [],
   "source": [
    "# Python basics for data analysis and transform\n",
    "import numpy as np\n",
    "import pandas as pd\n",
    "import seaborn as sns\n",
    "import matplotlib.pyplot as plt\n",
    "\n",
    "# Our models\n",
    "from sklearn.naive_bayes import GaussianNB\n",
    "from sklearn.ensemble import RandomForestClassifier\n",
    "from sklearn.neighbors import KNeighborsClassifier\n",
    "from sklearn.preprocessing import LabelEncoder, StandardScaler\n",
    "from sklearn.neural_network import MLPClassifier\n",
    "from sklearn.linear_model import Lasso, Ridge, ElasticNet\n",
    "from sklearn.multiclass import OneVsRestClassifier\n",
    "# import tensorflow as tf\n",
    "# from tensorflow import keras\n",
    "# from keras.utils import to_categorical\n",
    "# from tensorflow import keras\n",
    "# from tensorflow.keras import layers\n",
    "# from tensorflow.keras import regularizers\n",
    "\n",
    "# Data meterics and testing\n",
    "from sklearn.model_selection import (\n",
    "    StratifiedKFold,\n",
    "    train_test_split, \n",
    "    cross_val_score,\n",
    "    StratifiedKFold, \n",
    "    KFold,\n",
    "    GridSearchCV,\n",
    ")\n",
    "from sklearn.metrics import (\n",
    "    accuracy_score,\n",
    "    confusion_matrix,\n",
    "    ConfusionMatrixDisplay,\n",
    "    f1_score,\n",
    "    r2_score,\n",
    "    mean_squared_error,\n",
    "    mean_absolute_error,\n",
    "    precision_score, \n",
    "    recall_score,\n",
    ")"
   ]
  },
  {
   "attachments": {},
   "cell_type": "markdown",
   "metadata": {},
   "source": [
    "### Description of the features: \n",
    "\n",
    "1. invoice_no: Invoice number. Nominal. A combination of the letter 'I' and a 6-digit integer uniquely assigned to each operation. <br><br>\n",
    "2. customer_id: Customer number. Nominal. A combination of the letter 'C' and a 6-digit integer uniquely assigned to each operation.<br><br>\n",
    "3. gender: String variable of the customer's gender.<br><br>\n",
    "4. age: Positive Integer variable of the customers age.<br><br>\n",
    "5. category: String variable of the category of the purchased product.<br><br>\n",
    "6. quantity: The quantities of each product (item) per transaction. Numeric.<br><br>\n",
    "7. price: Unit price. Numeric. Product price per unit in Turkish Liras (TL).<br><br>\n",
    "8. payment_method: String variable of the payment method (cash, credit card or debit card) used for the transaction.<br><br>\n",
    "9. invoice_date: Invoice date. The day when a transaction was generated.<br><br>\n",
    "10. shopping_mall: String variable of the name of the shopping mall where the transaction was made.<br><br>"
   ]
  },
  {
   "attachments": {},
   "cell_type": "markdown",
   "metadata": {},
   "source": [
    "### Reading in the data \n",
    "We read in the data source via pandas and visualize it to see the columns present and determine which ones will be useful for our purposes. "
   ]
  },
  {
   "cell_type": "code",
   "execution_count": 60,
   "metadata": {},
   "outputs": [
    {
     "data": {
      "text/html": [
       "<div>\n",
       "<style scoped>\n",
       "    .dataframe tbody tr th:only-of-type {\n",
       "        vertical-align: middle;\n",
       "    }\n",
       "\n",
       "    .dataframe tbody tr th {\n",
       "        vertical-align: top;\n",
       "    }\n",
       "\n",
       "    .dataframe thead th {\n",
       "        text-align: right;\n",
       "    }\n",
       "</style>\n",
       "<table border=\"1\" class=\"dataframe\">\n",
       "  <thead>\n",
       "    <tr style=\"text-align: right;\">\n",
       "      <th></th>\n",
       "      <th>invoice_no</th>\n",
       "      <th>customer_id</th>\n",
       "      <th>gender</th>\n",
       "      <th>age</th>\n",
       "      <th>category</th>\n",
       "      <th>quantity</th>\n",
       "      <th>price</th>\n",
       "      <th>payment_method</th>\n",
       "      <th>invoice_date</th>\n",
       "      <th>shopping_mall</th>\n",
       "    </tr>\n",
       "  </thead>\n",
       "  <tbody>\n",
       "    <tr>\n",
       "      <th>0</th>\n",
       "      <td>I138884</td>\n",
       "      <td>C241288</td>\n",
       "      <td>Female</td>\n",
       "      <td>28</td>\n",
       "      <td>Clothing</td>\n",
       "      <td>5</td>\n",
       "      <td>1500.40</td>\n",
       "      <td>Credit Card</td>\n",
       "      <td>5/8/2022</td>\n",
       "      <td>Kanyon</td>\n",
       "    </tr>\n",
       "    <tr>\n",
       "      <th>1</th>\n",
       "      <td>I317333</td>\n",
       "      <td>C111565</td>\n",
       "      <td>Male</td>\n",
       "      <td>21</td>\n",
       "      <td>Shoes</td>\n",
       "      <td>3</td>\n",
       "      <td>1800.51</td>\n",
       "      <td>Debit Card</td>\n",
       "      <td>12/12/2021</td>\n",
       "      <td>Forum Istanbul</td>\n",
       "    </tr>\n",
       "    <tr>\n",
       "      <th>2</th>\n",
       "      <td>I127801</td>\n",
       "      <td>C266599</td>\n",
       "      <td>Male</td>\n",
       "      <td>20</td>\n",
       "      <td>Clothing</td>\n",
       "      <td>1</td>\n",
       "      <td>300.08</td>\n",
       "      <td>Cash</td>\n",
       "      <td>9/11/2021</td>\n",
       "      <td>Metrocity</td>\n",
       "    </tr>\n",
       "    <tr>\n",
       "      <th>3</th>\n",
       "      <td>I173702</td>\n",
       "      <td>C988172</td>\n",
       "      <td>Female</td>\n",
       "      <td>66</td>\n",
       "      <td>Shoes</td>\n",
       "      <td>5</td>\n",
       "      <td>3000.85</td>\n",
       "      <td>Credit Card</td>\n",
       "      <td>16/05/2021</td>\n",
       "      <td>Metropol AVM</td>\n",
       "    </tr>\n",
       "    <tr>\n",
       "      <th>4</th>\n",
       "      <td>I337046</td>\n",
       "      <td>C189076</td>\n",
       "      <td>Female</td>\n",
       "      <td>53</td>\n",
       "      <td>Books</td>\n",
       "      <td>4</td>\n",
       "      <td>60.60</td>\n",
       "      <td>Cash</td>\n",
       "      <td>24/10/2021</td>\n",
       "      <td>Kanyon</td>\n",
       "    </tr>\n",
       "  </tbody>\n",
       "</table>\n",
       "</div>"
      ],
      "text/plain": [
       "  invoice_no customer_id  gender  age  category  quantity    price  \\\n",
       "0    I138884     C241288  Female   28  Clothing         5  1500.40   \n",
       "1    I317333     C111565    Male   21     Shoes         3  1800.51   \n",
       "2    I127801     C266599    Male   20  Clothing         1   300.08   \n",
       "3    I173702     C988172  Female   66     Shoes         5  3000.85   \n",
       "4    I337046     C189076  Female   53     Books         4    60.60   \n",
       "\n",
       "  payment_method invoice_date   shopping_mall  \n",
       "0    Credit Card     5/8/2022          Kanyon  \n",
       "1     Debit Card   12/12/2021  Forum Istanbul  \n",
       "2           Cash    9/11/2021       Metrocity  \n",
       "3    Credit Card   16/05/2021    Metropol AVM  \n",
       "4           Cash   24/10/2021          Kanyon  "
      ]
     },
     "execution_count": 60,
     "metadata": {},
     "output_type": "execute_result"
    }
   ],
   "source": [
    "df = pd.read_csv('customer_shopping_data.csv')\n",
    "df.head()"
   ]
  },
  {
   "attachments": {},
   "cell_type": "markdown",
   "metadata": {},
   "source": [
    "### Feature Engineering"
   ]
  },
  {
   "attachments": {},
   "cell_type": "markdown",
   "metadata": {},
   "source": [
    "After looking over the data, we use domain knowledge to recognize that there were certain features that would not have any real impact on shopper's shopping patterns. We therefore drop these columns.\n",
    "For our purposes in this problem, we are not using 'invoice_no', 'customer_id', 'payment_method', 'invoice_date', data attributes from the dataset. \n",
    "\n",
    "We also want to restrict this demonstration to a couple of the main categories, so we are dropping the other categories, including Toys, Souveniers, Books, Shoes. "
   ]
  },
  {
   "cell_type": "code",
   "execution_count": 61,
   "metadata": {},
   "outputs": [],
   "source": [
    "# grabbing columns that are useful and dropping all else\n",
    "df.drop(['invoice_no', 'customer_id', 'payment_method', 'invoice_date'], axis=1, inplace=True)\n",
    "\n",
    "# dropping rows we dont care about, like toys\n",
    "\n",
    "df.drop(df[df['category'] == 'Toys'].index, inplace = True)\n",
    "df.drop(df[df['category'] == 'Souvenir'].index, inplace = True)\n",
    "df.drop(df[df['category'] == 'Books'].index, inplace = True)\n",
    "df.drop(df[df['category'] == 'Shoes'].index, inplace = True)"
   ]
  },
  {
   "attachments": {},
   "cell_type": "markdown",
   "metadata": {},
   "source": [
    "We notice that there is a price column and a quantity column, but that is not as meaningful as a total price column which will be an useful feature in our problem. We are thus calculating the new feature, **total price**, by multiplying the price and quantity columns. Once we add in this new feature, we drop the price and quantity columns as they do not provide us any new information. "
   ]
  },
  {
   "cell_type": "code",
   "execution_count": 62,
   "metadata": {},
   "outputs": [
    {
     "data": {
      "text/html": [
       "<div>\n",
       "<style scoped>\n",
       "    .dataframe tbody tr th:only-of-type {\n",
       "        vertical-align: middle;\n",
       "    }\n",
       "\n",
       "    .dataframe tbody tr th {\n",
       "        vertical-align: top;\n",
       "    }\n",
       "\n",
       "    .dataframe thead th {\n",
       "        text-align: right;\n",
       "    }\n",
       "</style>\n",
       "<table border=\"1\" class=\"dataframe\">\n",
       "  <thead>\n",
       "    <tr style=\"text-align: right;\">\n",
       "      <th></th>\n",
       "      <th>gender</th>\n",
       "      <th>age</th>\n",
       "      <th>category</th>\n",
       "      <th>shopping_mall</th>\n",
       "      <th>total_price</th>\n",
       "    </tr>\n",
       "  </thead>\n",
       "  <tbody>\n",
       "    <tr>\n",
       "      <th>0</th>\n",
       "      <td>Female</td>\n",
       "      <td>28</td>\n",
       "      <td>Clothing</td>\n",
       "      <td>Kanyon</td>\n",
       "      <td>7502.00</td>\n",
       "    </tr>\n",
       "    <tr>\n",
       "      <th>2</th>\n",
       "      <td>Male</td>\n",
       "      <td>20</td>\n",
       "      <td>Clothing</td>\n",
       "      <td>Metrocity</td>\n",
       "      <td>300.08</td>\n",
       "    </tr>\n",
       "    <tr>\n",
       "      <th>5</th>\n",
       "      <td>Female</td>\n",
       "      <td>28</td>\n",
       "      <td>Clothing</td>\n",
       "      <td>Forum Istanbul</td>\n",
       "      <td>7502.00</td>\n",
       "    </tr>\n",
       "    <tr>\n",
       "      <th>6</th>\n",
       "      <td>Female</td>\n",
       "      <td>49</td>\n",
       "      <td>Cosmetics</td>\n",
       "      <td>Istinye Park</td>\n",
       "      <td>40.66</td>\n",
       "    </tr>\n",
       "    <tr>\n",
       "      <th>7</th>\n",
       "      <td>Female</td>\n",
       "      <td>32</td>\n",
       "      <td>Clothing</td>\n",
       "      <td>Mall of Istanbul</td>\n",
       "      <td>1200.32</td>\n",
       "    </tr>\n",
       "  </tbody>\n",
       "</table>\n",
       "</div>"
      ],
      "text/plain": [
       "   gender  age   category     shopping_mall  total_price\n",
       "0  Female   28   Clothing            Kanyon      7502.00\n",
       "2    Male   20   Clothing         Metrocity       300.08\n",
       "5  Female   28   Clothing    Forum Istanbul      7502.00\n",
       "6  Female   49  Cosmetics      Istinye Park        40.66\n",
       "7  Female   32   Clothing  Mall of Istanbul      1200.32"
      ]
     },
     "execution_count": 62,
     "metadata": {},
     "output_type": "execute_result"
    }
   ],
   "source": [
    "# recalculating price column to include totals\n",
    "df['total_price'] = (df['price'] * df['quantity'])\n",
    "df.drop(['quantity', 'price'], axis=1, inplace=True)\n",
    "df.head()"
   ]
  },
  {
   "attachments": {},
   "cell_type": "markdown",
   "metadata": {},
   "source": [
    "Finally, we also want to know how many data points there are for each category to get a better sense of the spread of our dataset. It looks like we have an imbalanced dataset which Technology having far fewer samples than Clothing. This will come into play later when we choose between K-fold and Stratified K-fold cross validation techniques. "
   ]
  },
  {
   "cell_type": "code",
   "execution_count": 63,
   "metadata": {},
   "outputs": [
    {
     "data": {
      "text/plain": [
       "Clothing           34487\n",
       "Cosmetics          15097\n",
       "Food & Beverage    14776\n",
       "Technology          4996\n",
       "Name: category, dtype: int64"
      ]
     },
     "execution_count": 63,
     "metadata": {},
     "output_type": "execute_result"
    }
   ],
   "source": [
    "df['category'].value_counts()"
   ]
  },
  {
   "attachments": {},
   "cell_type": "markdown",
   "metadata": {},
   "source": [
    "It looks like clothing is the majority class whereas Technology is the minority class. \n",
    "One way to level this out is by oversampling Technology or undersampling Clothing."
   ]
  },
  {
   "attachments": {},
   "cell_type": "markdown",
   "metadata": {},
   "source": [
    "### Visualizing the cleaned data "
   ]
  },
  {
   "attachments": {},
   "cell_type": "markdown",
   "metadata": {},
   "source": [
    "One of the first pieces we want to visualize and compare is the total amount of money spent by females vs. men."
   ]
  },
  {
   "cell_type": "code",
   "execution_count": 64,
   "metadata": {},
   "outputs": [
    {
     "data": {
      "image/png": "[encoded data removed]",
      "text/plain": [
       "<Figure size 720x432 with 1 Axes>"
      ]
     },
     "metadata": {
      "needs_background": "light"
     },
     "output_type": "display_data"
    }
   ],
   "source": [
    "plt.figure(figsize=(10,6))\n",
    "sns.barplot(df,x='gender',y='total_price',hue = 'gender',estimator = sum)\n",
    "plt.ylabel('Total amount spent')\n",
    "plt.title('Total Amount spent by males vs. females ')\n",
    "plt.ticklabel_format(style='plain',axis='y')\n",
    "plt.show()"
   ]
  },
  {
   "attachments": {},
   "cell_type": "markdown",
   "metadata": {},
   "source": [
    "It is evident that the overall total amount of money spent by females is considerably higher. "
   ]
  },
  {
   "attachments": {},
   "cell_type": "markdown",
   "metadata": {},
   "source": [
    "Next, we want to comapare the amount of money spent per category by males vs. females "
   ]
  },
  {
   "cell_type": "code",
   "execution_count": 65,
   "metadata": {},
   "outputs": [
    {
     "data": {
      "image/png": "[encoded data removed]",
      "text/plain": [
       "<Figure size 720x432 with 1 Axes>"
      ]
     },
     "metadata": {
      "needs_background": "light"
     },
     "output_type": "display_data"
    }
   ],
   "source": [
    "plt.figure(figsize=(10,6))\n",
    "sns.barplot(df,x='category',y='total_price',hue = 'gender',estimator = sum)\n",
    "plt.title('Category Wise Shopping')\n",
    "plt.show()"
   ]
  },
  {
   "attachments": {},
   "cell_type": "markdown",
   "metadata": {},
   "source": [
    "It looks like the total amount of money spent in clothing, cosmetics, and technology by females is considerably higher than the total amount of money spent by men in those categories, but we want to see if this same trend follows for the average amount of money spent by females vs. males in each of these categories. \n",
    "\n",
    "**Calculating average amount of money spent by females vs. males in each of these categories:**"
   ]
  },
  {
   "cell_type": "code",
   "execution_count": 66,
   "metadata": {},
   "outputs": [
    {
     "data": {
      "image/png": "[encoded data removed]",
      "text/plain": [
       "<Figure size 720x432 with 1 Axes>"
      ]
     },
     "metadata": {
      "needs_background": "light"
     },
     "output_type": "display_data"
    }
   ],
   "source": [
    "plt.figure(figsize=(10,6))\n",
    "ax = sns.barplot(df,x='category',y='total_price',hue = 'gender',estimator = 'mean')\n",
    "ax.set(xlabel='Category',\n",
    "       ylabel='Average amount of money spent',\n",
    "       title='Category Wise Shopping by Gender')\n",
    "plt.show()"
   ]
  },
  {
   "cell_type": "code",
   "execution_count": 67,
   "metadata": {},
   "outputs": [
    {
     "name": "stdout",
     "output_type": "stream",
     "text": [
      "   gender         category   total_price\n",
      "0  Female         Clothing   3304.846775\n",
      "1  Female        Cosmetics    448.376245\n",
      "2  Female  Food & Beverage     57.396933\n",
      "3  Female       Technology  11630.308621\n",
      "4    Male         Clothing   3306.475999\n",
      "5    Male        Cosmetics    452.312985\n",
      "6    Male  Food & Beverage     57.637718\n",
      "7    Male       Technology  11509.875931\n",
      "\n",
      "    gender         category        age\n",
      "0  Female         Clothing  43.381948\n",
      "1  Female        Cosmetics  43.571665\n",
      "2  Female  Food & Beverage  43.489209\n",
      "3  Female       Technology  43.249581\n",
      "4    Male         Clothing  43.449946\n",
      "5    Male        Cosmetics  43.594160\n",
      "6    Male  Food & Beverage  43.155727\n",
      "7    Male       Technology  43.544417\n"
     ]
    }
   ],
   "source": [
    "# checking average price spent by gender per category\n",
    "avg_price_spent_per=df.groupby(['gender','category'], as_index=False)['total_price'].mean()\n",
    "avg_age_per=df.groupby(['gender','category'], as_index=False)['age'].mean()\n",
    "print(avg_price_spent_per)\n",
    "print(\"\\n\",avg_age_per)"
   ]
  },
  {
   "attachments": {},
   "cell_type": "markdown",
   "metadata": {},
   "source": [
    "We quickly find a couple of things: \n",
    "1.  There is a noticeable amount of difference between males and females in total amount spent per category\n",
    "2. There is a noticeable amount of difference between average spending from category to category \n",
    "3. There is very little difference in when comparing males vs. females **within** each category. For example, for the Technology category, Males spent an average of 11509.88 Lira wheras females spent 11630.31 Lira and in the Clothing category, males spent an average of 3306.48  Lira whereas females spent an average of 3304.85 Lira. \n",
    "\n",
    "There lack of variation in our data will become a problem as we will find out later "
   ]
  },
  {
   "cell_type": "code",
   "execution_count": 68,
   "metadata": {},
   "outputs": [
    {
     "data": {
      "image/png": "[encoded data removed]",
      "text/plain": [
       "<Figure size 1440x432 with 1 Axes>"
      ]
     },
     "metadata": {
      "needs_background": "light"
     },
     "output_type": "display_data"
    }
   ],
   "source": [
    "plt.figure(figsize=(20,6))\n",
    "ax = sns.barplot(df,x='shopping_mall',y='total_price',hue = 'gender',estimator = 'mean')\n",
    "ax.set(xlabel='Shopping mall',\n",
    "       ylabel='Average amount of money spent',\n",
    "       title='Shopping Mall Wise Shopping by Gender')\n",
    "plt.show()"
   ]
  },
  {
   "cell_type": "code",
   "execution_count": 69,
   "metadata": {},
   "outputs": [
    {
     "name": "stdout",
     "output_type": "stream",
     "text": [
      "    gender      shopping_mall  total_price\n",
      "0   Female        Cevahir AVM  2578.274630\n",
      "1   Female  Emaar Square Mall  2721.922403\n",
      "2   Female     Forum Istanbul  2498.865477\n",
      "3   Female       Istinye Park  2601.940877\n",
      "4   Female             Kanyon  2652.917047\n",
      "5   Female   Mall of Istanbul  2588.465487\n",
      "6   Female          Metrocity  2565.397838\n",
      "7   Female       Metropol AVM  2399.639890\n",
      "8   Female     Viaport Outlet  2723.107971\n",
      "9   Female       Zorlu Center  2628.558746\n",
      "10    Male        Cevahir AVM  2666.947484\n",
      "11    Male  Emaar Square Mall  2652.309208\n",
      "12    Male     Forum Istanbul  2567.935761\n",
      "13    Male       Istinye Park  2516.635455\n",
      "14    Male             Kanyon  2572.807329\n",
      "15    Male   Mall of Istanbul  2626.392354\n",
      "16    Male          Metrocity  2540.795903\n",
      "17    Male       Metropol AVM  2670.127212\n",
      "18    Male     Viaport Outlet  2517.975887\n",
      "19    Male       Zorlu Center  2509.945500\n"
     ]
    }
   ],
   "source": [
    "avg_price_spent_per=df.groupby(['gender','shopping_mall'], as_index=False)['total_price'].mean()\n",
    "print(avg_price_spent_per)"
   ]
  },
  {
   "attachments": {},
   "cell_type": "markdown",
   "metadata": {},
   "source": [
    "There is very little difference in when comparing males vs. females **within** for each shopping mall as well.  "
   ]
  },
  {
   "attachments": {},
   "cell_type": "markdown",
   "metadata": {},
   "source": [
    "# Part 1: Tackling the Initial Problem Statement "
   ]
  },
  {
   "attachments": {},
   "cell_type": "markdown",
   "metadata": {},
   "source": [
    "### Creating class labels for our dataset "
   ]
  },
  {
   "attachments": {},
   "cell_type": "markdown",
   "metadata": {},
   "source": [
    "After visualizing and understanding our dataset, we will now be creating class labels for our dataset. We want to have 3 labels - Yes, No, and Maybe which represent if we should market to this person based on their shopping habits - i.e amount of money spent in a particular category. \n",
    "\n",
    "Our cutoffs of creating each of these labels will be based on total cost percentiles per category - \n",
    "\n",
    "\n",
    "1. **Yes** - This person's total cost in a certain category is more than the 75 percentile of total money spent in that certain category, therfore, we will defintely want to market to these people. \n",
    "\n",
    "\n",
    "2. **Maybe** - This person's total cost in a certain category is less than the 75 percentile but more than the 25 percentile of total money spent in that certain category, therfore, we will may want to market to these people, but will want to give higher priority to people who have spent more money. \n",
    "\n",
    "\n",
    "3. **No** -  This person's total cost in a certain category is less than the 25 percentile but more than the median of total money spent in that certain category, therfore, we do not want to market to these people and conserve our resources instead. "
   ]
  },
  {
   "cell_type": "code",
   "execution_count": 70,
   "metadata": {},
   "outputs": [
    {
     "data": {
      "text/plain": [
       "gender  0     Female\n",
       "        1     Female\n",
       "        2     Female\n",
       "        3     Female\n",
       "        4       Male\n",
       "              ...   \n",
       "max     3    26250.0\n",
       "        4     7502.0\n",
       "        5     1016.5\n",
       "        6     130.75\n",
       "        7    26250.0\n",
       "Length: 80, dtype: object"
      ]
     },
     "execution_count": 70,
     "metadata": {},
     "output_type": "execute_result"
    }
   ],
   "source": [
    "df.groupby(['gender','category'], as_index=False)['total_price'].describe()"
   ]
  },
  {
   "cell_type": "code",
   "execution_count": 71,
   "metadata": {},
   "outputs": [
    {
     "data": {
      "text/plain": [
       "gender  0    Female\n",
       "        1    Female\n",
       "        2    Female\n",
       "        3    Female\n",
       "        4      Male\n",
       "              ...  \n",
       "max     3      69.0\n",
       "        4      69.0\n",
       "        5      69.0\n",
       "        6      69.0\n",
       "        7      69.0\n",
       "Length: 80, dtype: object"
      ]
     },
     "execution_count": 71,
     "metadata": {},
     "output_type": "execute_result"
    }
   ],
   "source": [
    "df.groupby(['gender','category'], as_index=False)['age'].describe()"
   ]
  },
  {
   "attachments": {},
   "cell_type": "markdown",
   "metadata": {},
   "source": [
    "Now that we have found the 25th, 50th, and 75th percentiles. We use the rules above to assign class labels. "
   ]
  },
  {
   "cell_type": "code",
   "execution_count": 72,
   "metadata": {},
   "outputs": [],
   "source": [
    "# creating the class label\n",
    "# label -> ['maybe', 'no', 'yes']\n",
    "def assignNewLabels(row):\n",
    "    # for tech shoppers\n",
    "    if row['category'] == \"Technology\" and row[\"total_price\"] > 16800:\n",
    "        return \"yes\"\n",
    "    elif row['category'] == \"Technology\" and row[\"total_price\"] <= 4200:\n",
    "        return \"no\"\n",
    "    elif row['category'] == \"Technology\" and row[\"total_price\"] > 4200.0 and row[\"total_price\"] <= 16800:\n",
    "        return \"maybe\"\n",
    "    \n",
    "    # for clothing\n",
    "    elif row['category'] == \"Clothing\" and row[\"total_price\"] > 4801.28:\n",
    "        return \"yes\"\n",
    "    elif row['category'] == \"Clothing\" and row[\"total_price\"] <= 1200.32:\n",
    "        return \"no\"\n",
    "    elif row['category'] == \"Clothing\" and row[\"total_price\"] > 1200.32 and row[\"total_price\"] <= 4801.28:\n",
    "        return \"maybe\"\n",
    "    \n",
    "    # for cosmetics\n",
    "    elif row['category'] == \"Cosmetics\" and row[\"total_price\"] > 650.56:\n",
    "        return \"yes\"\n",
    "    elif row['category'] == \"Cosmetics\" and row[\"total_price\"] <= 162.64:\n",
    "        return \"no\"\n",
    "    elif row['category'] == \"Cosmetics\" and row[\"total_price\"] > 162.64 and row[\"total_price\"] <= 650.56:\n",
    "        return \"maybe\"\n",
    "    \n",
    "    # for food\n",
    "    elif row['category'] == \"Food & Beverage\" and row[\"total_price\"] > 83.68:\n",
    "        return \"yes\"\n",
    "    elif row['category'] == \"Food & Beverage\" and row[\"total_price\"] <= 20.92:\n",
    "        return \"no\"\n",
    "    elif row['category'] == \"Food & Beverage\" and row[\"total_price\"] > 20.92 and row[\"total_price\"] <= 83.68:\n",
    "        return \"maybe\""
   ]
  },
  {
   "cell_type": "code",
   "execution_count": 73,
   "metadata": {},
   "outputs": [
    {
     "data": {
      "text/html": [
       "<div>\n",
       "<style scoped>\n",
       "    .dataframe tbody tr th:only-of-type {\n",
       "        vertical-align: middle;\n",
       "    }\n",
       "\n",
       "    .dataframe tbody tr th {\n",
       "        vertical-align: top;\n",
       "    }\n",
       "\n",
       "    .dataframe thead th {\n",
       "        text-align: right;\n",
       "    }\n",
       "</style>\n",
       "<table border=\"1\" class=\"dataframe\">\n",
       "  <thead>\n",
       "    <tr style=\"text-align: right;\">\n",
       "      <th></th>\n",
       "      <th>gender</th>\n",
       "      <th>age</th>\n",
       "      <th>category</th>\n",
       "      <th>shopping_mall</th>\n",
       "      <th>total_price</th>\n",
       "      <th>Should_We_Market</th>\n",
       "    </tr>\n",
       "  </thead>\n",
       "  <tbody>\n",
       "    <tr>\n",
       "      <th>0</th>\n",
       "      <td>Female</td>\n",
       "      <td>28</td>\n",
       "      <td>Clothing</td>\n",
       "      <td>Kanyon</td>\n",
       "      <td>7502.00</td>\n",
       "      <td>yes</td>\n",
       "    </tr>\n",
       "    <tr>\n",
       "      <th>2</th>\n",
       "      <td>Male</td>\n",
       "      <td>20</td>\n",
       "      <td>Clothing</td>\n",
       "      <td>Metrocity</td>\n",
       "      <td>300.08</td>\n",
       "      <td>no</td>\n",
       "    </tr>\n",
       "    <tr>\n",
       "      <th>5</th>\n",
       "      <td>Female</td>\n",
       "      <td>28</td>\n",
       "      <td>Clothing</td>\n",
       "      <td>Forum Istanbul</td>\n",
       "      <td>7502.00</td>\n",
       "      <td>yes</td>\n",
       "    </tr>\n",
       "    <tr>\n",
       "      <th>6</th>\n",
       "      <td>Female</td>\n",
       "      <td>49</td>\n",
       "      <td>Cosmetics</td>\n",
       "      <td>Istinye Park</td>\n",
       "      <td>40.66</td>\n",
       "      <td>no</td>\n",
       "    </tr>\n",
       "    <tr>\n",
       "      <th>7</th>\n",
       "      <td>Female</td>\n",
       "      <td>32</td>\n",
       "      <td>Clothing</td>\n",
       "      <td>Mall of Istanbul</td>\n",
       "      <td>1200.32</td>\n",
       "      <td>no</td>\n",
       "    </tr>\n",
       "  </tbody>\n",
       "</table>\n",
       "</div>"
      ],
      "text/plain": [
       "   gender  age   category     shopping_mall  total_price Should_We_Market\n",
       "0  Female   28   Clothing            Kanyon      7502.00              yes\n",
       "2    Male   20   Clothing         Metrocity       300.08               no\n",
       "5  Female   28   Clothing    Forum Istanbul      7502.00              yes\n",
       "6  Female   49  Cosmetics      Istinye Park        40.66               no\n",
       "7  Female   32   Clothing  Mall of Istanbul      1200.32               no"
      ]
     },
     "execution_count": 73,
     "metadata": {},
     "output_type": "execute_result"
    }
   ],
   "source": [
    "# creating the labels based on the above function\n",
    "df['Should_We_Market'] = df.apply(lambda row: assignNewLabels(row), axis=1)\n",
    "df.head()"
   ]
  },
  {
   "attachments": {},
   "cell_type": "markdown",
   "metadata": {},
   "source": [
    "We now have our new class labels that our models will now try to predict. "
   ]
  },
  {
   "attachments": {},
   "cell_type": "markdown",
   "metadata": {},
   "source": [
    "### Starting the Machine Learning Process \n",
    "**One Hot Encoding**"
   ]
  },
  {
   "attachments": {},
   "cell_type": "markdown",
   "metadata": {},
   "source": [
    "We are creating one hot encoded labels for each gender and category features as we are doing multilclass classification. We chose to opt in for this as opposed to just integer labels like 1, 2, 3, 4 corresponding to each category because we do not want there to be assumed ordinal relationship between the categories. "
   ]
  },
  {
   "cell_type": "code",
   "execution_count": 74,
   "metadata": {},
   "outputs": [
    {
     "data": {
      "text/html": [
       "<div>\n",
       "<style scoped>\n",
       "    .dataframe tbody tr th:only-of-type {\n",
       "        vertical-align: middle;\n",
       "    }\n",
       "\n",
       "    .dataframe tbody tr th {\n",
       "        vertical-align: top;\n",
       "    }\n",
       "\n",
       "    .dataframe thead th {\n",
       "        text-align: right;\n",
       "    }\n",
       "</style>\n",
       "<table border=\"1\" class=\"dataframe\">\n",
       "  <thead>\n",
       "    <tr style=\"text-align: right;\">\n",
       "      <th></th>\n",
       "      <th>age</th>\n",
       "      <th>total_price</th>\n",
       "      <th>gender_Female</th>\n",
       "      <th>gender_Male</th>\n",
       "      <th>category_Clothing</th>\n",
       "      <th>category_Cosmetics</th>\n",
       "      <th>category_Food &amp; Beverage</th>\n",
       "      <th>category_Technology</th>\n",
       "      <th>shopping_mall_Cevahir AVM</th>\n",
       "      <th>shopping_mall_Emaar Square Mall</th>\n",
       "      <th>shopping_mall_Forum Istanbul</th>\n",
       "      <th>shopping_mall_Istinye Park</th>\n",
       "      <th>shopping_mall_Kanyon</th>\n",
       "      <th>shopping_mall_Mall of Istanbul</th>\n",
       "      <th>shopping_mall_Metrocity</th>\n",
       "      <th>shopping_mall_Metropol AVM</th>\n",
       "      <th>shopping_mall_Viaport Outlet</th>\n",
       "      <th>shopping_mall_Zorlu Center</th>\n",
       "    </tr>\n",
       "  </thead>\n",
       "  <tbody>\n",
       "    <tr>\n",
       "      <th>0</th>\n",
       "      <td>28</td>\n",
       "      <td>7502.00</td>\n",
       "      <td>1</td>\n",
       "      <td>0</td>\n",
       "      <td>1</td>\n",
       "      <td>0</td>\n",
       "      <td>0</td>\n",
       "      <td>0</td>\n",
       "      <td>0</td>\n",
       "      <td>0</td>\n",
       "      <td>0</td>\n",
       "      <td>0</td>\n",
       "      <td>1</td>\n",
       "      <td>0</td>\n",
       "      <td>0</td>\n",
       "      <td>0</td>\n",
       "      <td>0</td>\n",
       "      <td>0</td>\n",
       "    </tr>\n",
       "    <tr>\n",
       "      <th>2</th>\n",
       "      <td>20</td>\n",
       "      <td>300.08</td>\n",
       "      <td>0</td>\n",
       "      <td>1</td>\n",
       "      <td>1</td>\n",
       "      <td>0</td>\n",
       "      <td>0</td>\n",
       "      <td>0</td>\n",
       "      <td>0</td>\n",
       "      <td>0</td>\n",
       "      <td>0</td>\n",
       "      <td>0</td>\n",
       "      <td>0</td>\n",
       "      <td>0</td>\n",
       "      <td>1</td>\n",
       "      <td>0</td>\n",
       "      <td>0</td>\n",
       "      <td>0</td>\n",
       "    </tr>\n",
       "    <tr>\n",
       "      <th>5</th>\n",
       "      <td>28</td>\n",
       "      <td>7502.00</td>\n",
       "      <td>1</td>\n",
       "      <td>0</td>\n",
       "      <td>1</td>\n",
       "      <td>0</td>\n",
       "      <td>0</td>\n",
       "      <td>0</td>\n",
       "      <td>0</td>\n",
       "      <td>0</td>\n",
       "      <td>1</td>\n",
       "      <td>0</td>\n",
       "      <td>0</td>\n",
       "      <td>0</td>\n",
       "      <td>0</td>\n",
       "      <td>0</td>\n",
       "      <td>0</td>\n",
       "      <td>0</td>\n",
       "    </tr>\n",
       "    <tr>\n",
       "      <th>6</th>\n",
       "      <td>49</td>\n",
       "      <td>40.66</td>\n",
       "      <td>1</td>\n",
       "      <td>0</td>\n",
       "      <td>0</td>\n",
       "      <td>1</td>\n",
       "      <td>0</td>\n",
       "      <td>0</td>\n",
       "      <td>0</td>\n",
       "      <td>0</td>\n",
       "      <td>0</td>\n",
       "      <td>1</td>\n",
       "      <td>0</td>\n",
       "      <td>0</td>\n",
       "      <td>0</td>\n",
       "      <td>0</td>\n",
       "      <td>0</td>\n",
       "      <td>0</td>\n",
       "    </tr>\n",
       "    <tr>\n",
       "      <th>7</th>\n",
       "      <td>32</td>\n",
       "      <td>1200.32</td>\n",
       "      <td>1</td>\n",
       "      <td>0</td>\n",
       "      <td>1</td>\n",
       "      <td>0</td>\n",
       "      <td>0</td>\n",
       "      <td>0</td>\n",
       "      <td>0</td>\n",
       "      <td>0</td>\n",
       "      <td>0</td>\n",
       "      <td>0</td>\n",
       "      <td>0</td>\n",
       "      <td>1</td>\n",
       "      <td>0</td>\n",
       "      <td>0</td>\n",
       "      <td>0</td>\n",
       "      <td>0</td>\n",
       "    </tr>\n",
       "  </tbody>\n",
       "</table>\n",
       "</div>"
      ],
      "text/plain": [
       "   age  total_price  gender_Female  gender_Male  category_Clothing  \\\n",
       "0   28      7502.00              1            0                  1   \n",
       "2   20       300.08              0            1                  1   \n",
       "5   28      7502.00              1            0                  1   \n",
       "6   49        40.66              1            0                  0   \n",
       "7   32      1200.32              1            0                  1   \n",
       "\n",
       "   category_Cosmetics  category_Food & Beverage  category_Technology  \\\n",
       "0                   0                         0                    0   \n",
       "2                   0                         0                    0   \n",
       "5                   0                         0                    0   \n",
       "6                   1                         0                    0   \n",
       "7                   0                         0                    0   \n",
       "\n",
       "   shopping_mall_Cevahir AVM  shopping_mall_Emaar Square Mall  \\\n",
       "0                          0                                0   \n",
       "2                          0                                0   \n",
       "5                          0                                0   \n",
       "6                          0                                0   \n",
       "7                          0                                0   \n",
       "\n",
       "   shopping_mall_Forum Istanbul  shopping_mall_Istinye Park  \\\n",
       "0                             0                           0   \n",
       "2                             0                           0   \n",
       "5                             1                           0   \n",
       "6                             0                           1   \n",
       "7                             0                           0   \n",
       "\n",
       "   shopping_mall_Kanyon  shopping_mall_Mall of Istanbul  \\\n",
       "0                     1                               0   \n",
       "2                     0                               0   \n",
       "5                     0                               0   \n",
       "6                     0                               0   \n",
       "7                     0                               1   \n",
       "\n",
       "   shopping_mall_Metrocity  shopping_mall_Metropol AVM  \\\n",
       "0                        0                           0   \n",
       "2                        1                           0   \n",
       "5                        0                           0   \n",
       "6                        0                           0   \n",
       "7                        0                           0   \n",
       "\n",
       "   shopping_mall_Viaport Outlet  shopping_mall_Zorlu Center  \n",
       "0                             0                           0  \n",
       "2                             0                           0  \n",
       "5                             0                           0  \n",
       "6                             0                           0  \n",
       "7                             0                           0  "
      ]
     },
     "execution_count": 74,
     "metadata": {},
     "output_type": "execute_result"
    }
   ],
   "source": [
    "df_dummy = pd.get_dummies(df[['gender', 'category', 'age', 'total_price', 'shopping_mall']])\n",
    "df_dummy.head()"
   ]
  },
  {
   "attachments": {},
   "cell_type": "markdown",
   "metadata": {},
   "source": [
    "**Min-max normalization**\n",
    "\n",
    "We normalize our age and price features to ensure uniformity and ensure that they are all within the same range, [0,1]\n"
   ]
  },
  {
   "cell_type": "code",
   "execution_count": 75,
   "metadata": {},
   "outputs": [],
   "source": [
    "# Normalizing the ages\n",
    "min_age = df_dummy['age'].min()\n",
    "max_age = df_dummy['age'].max()\n",
    "\n",
    "# Apply min-max normalization to the 'age' column\n",
    "df_dummy['normalized_age'] = (df_dummy['age'] - min_age) / (max_age - min_age)\n",
    "df_dummy.drop(['age'], axis=1, inplace=True)"
   ]
  },
  {
   "cell_type": "code",
   "execution_count": 76,
   "metadata": {},
   "outputs": [],
   "source": [
    "# Normalize the prices\n",
    "min_price = df_dummy['total_price'].min()\n",
    "max_price = df_dummy['total_price'].max()\n",
    "\n",
    "# Apply min-max normalization to the 'price' column\n",
    "df_dummy['normalized_price'] = (df_dummy['total_price'] - min_price) / (max_price - min_price)\n",
    "df_dummy.drop(['total_price'], axis=1, inplace=True)"
   ]
  },
  {
   "cell_type": "code",
   "execution_count": 77,
   "metadata": {},
   "outputs": [
    {
     "data": {
      "text/html": [
       "<div>\n",
       "<style scoped>\n",
       "    .dataframe tbody tr th:only-of-type {\n",
       "        vertical-align: middle;\n",
       "    }\n",
       "\n",
       "    .dataframe tbody tr th {\n",
       "        vertical-align: top;\n",
       "    }\n",
       "\n",
       "    .dataframe thead th {\n",
       "        text-align: right;\n",
       "    }\n",
       "</style>\n",
       "<table border=\"1\" class=\"dataframe\">\n",
       "  <thead>\n",
       "    <tr style=\"text-align: right;\">\n",
       "      <th></th>\n",
       "      <th>gender_Female</th>\n",
       "      <th>gender_Male</th>\n",
       "      <th>category_Clothing</th>\n",
       "      <th>category_Cosmetics</th>\n",
       "      <th>category_Food &amp; Beverage</th>\n",
       "      <th>category_Technology</th>\n",
       "      <th>shopping_mall_Cevahir AVM</th>\n",
       "      <th>shopping_mall_Emaar Square Mall</th>\n",
       "      <th>shopping_mall_Forum Istanbul</th>\n",
       "      <th>shopping_mall_Istinye Park</th>\n",
       "      <th>shopping_mall_Kanyon</th>\n",
       "      <th>shopping_mall_Mall of Istanbul</th>\n",
       "      <th>shopping_mall_Metrocity</th>\n",
       "      <th>shopping_mall_Metropol AVM</th>\n",
       "      <th>shopping_mall_Viaport Outlet</th>\n",
       "      <th>shopping_mall_Zorlu Center</th>\n",
       "      <th>normalized_age</th>\n",
       "      <th>normalized_price</th>\n",
       "    </tr>\n",
       "  </thead>\n",
       "  <tbody>\n",
       "    <tr>\n",
       "      <th>0</th>\n",
       "      <td>1</td>\n",
       "      <td>0</td>\n",
       "      <td>1</td>\n",
       "      <td>0</td>\n",
       "      <td>0</td>\n",
       "      <td>0</td>\n",
       "      <td>0</td>\n",
       "      <td>0</td>\n",
       "      <td>0</td>\n",
       "      <td>0</td>\n",
       "      <td>1</td>\n",
       "      <td>0</td>\n",
       "      <td>0</td>\n",
       "      <td>0</td>\n",
       "      <td>0</td>\n",
       "      <td>0</td>\n",
       "      <td>0.196078</td>\n",
       "      <td>0.285648</td>\n",
       "    </tr>\n",
       "    <tr>\n",
       "      <th>2</th>\n",
       "      <td>0</td>\n",
       "      <td>1</td>\n",
       "      <td>1</td>\n",
       "      <td>0</td>\n",
       "      <td>0</td>\n",
       "      <td>0</td>\n",
       "      <td>0</td>\n",
       "      <td>0</td>\n",
       "      <td>0</td>\n",
       "      <td>0</td>\n",
       "      <td>0</td>\n",
       "      <td>0</td>\n",
       "      <td>1</td>\n",
       "      <td>0</td>\n",
       "      <td>0</td>\n",
       "      <td>0</td>\n",
       "      <td>0.039216</td>\n",
       "      <td>0.011235</td>\n",
       "    </tr>\n",
       "    <tr>\n",
       "      <th>5</th>\n",
       "      <td>1</td>\n",
       "      <td>0</td>\n",
       "      <td>1</td>\n",
       "      <td>0</td>\n",
       "      <td>0</td>\n",
       "      <td>0</td>\n",
       "      <td>0</td>\n",
       "      <td>0</td>\n",
       "      <td>1</td>\n",
       "      <td>0</td>\n",
       "      <td>0</td>\n",
       "      <td>0</td>\n",
       "      <td>0</td>\n",
       "      <td>0</td>\n",
       "      <td>0</td>\n",
       "      <td>0</td>\n",
       "      <td>0.196078</td>\n",
       "      <td>0.285648</td>\n",
       "    </tr>\n",
       "    <tr>\n",
       "      <th>6</th>\n",
       "      <td>1</td>\n",
       "      <td>0</td>\n",
       "      <td>0</td>\n",
       "      <td>1</td>\n",
       "      <td>0</td>\n",
       "      <td>0</td>\n",
       "      <td>0</td>\n",
       "      <td>0</td>\n",
       "      <td>0</td>\n",
       "      <td>1</td>\n",
       "      <td>0</td>\n",
       "      <td>0</td>\n",
       "      <td>0</td>\n",
       "      <td>0</td>\n",
       "      <td>0</td>\n",
       "      <td>0</td>\n",
       "      <td>0.607843</td>\n",
       "      <td>0.001350</td>\n",
       "    </tr>\n",
       "    <tr>\n",
       "      <th>7</th>\n",
       "      <td>1</td>\n",
       "      <td>0</td>\n",
       "      <td>1</td>\n",
       "      <td>0</td>\n",
       "      <td>0</td>\n",
       "      <td>0</td>\n",
       "      <td>0</td>\n",
       "      <td>0</td>\n",
       "      <td>0</td>\n",
       "      <td>0</td>\n",
       "      <td>0</td>\n",
       "      <td>1</td>\n",
       "      <td>0</td>\n",
       "      <td>0</td>\n",
       "      <td>0</td>\n",
       "      <td>0</td>\n",
       "      <td>0.274510</td>\n",
       "      <td>0.045536</td>\n",
       "    </tr>\n",
       "  </tbody>\n",
       "</table>\n",
       "</div>"
      ],
      "text/plain": [
       "   gender_Female  gender_Male  category_Clothing  category_Cosmetics  \\\n",
       "0              1            0                  1                   0   \n",
       "2              0            1                  1                   0   \n",
       "5              1            0                  1                   0   \n",
       "6              1            0                  0                   1   \n",
       "7              1            0                  1                   0   \n",
       "\n",
       "   category_Food & Beverage  category_Technology  shopping_mall_Cevahir AVM  \\\n",
       "0                         0                    0                          0   \n",
       "2                         0                    0                          0   \n",
       "5                         0                    0                          0   \n",
       "6                         0                    0                          0   \n",
       "7                         0                    0                          0   \n",
       "\n",
       "   shopping_mall_Emaar Square Mall  shopping_mall_Forum Istanbul  \\\n",
       "0                                0                             0   \n",
       "2                                0                             0   \n",
       "5                                0                             1   \n",
       "6                                0                             0   \n",
       "7                                0                             0   \n",
       "\n",
       "   shopping_mall_Istinye Park  shopping_mall_Kanyon  \\\n",
       "0                           0                     1   \n",
       "2                           0                     0   \n",
       "5                           0                     0   \n",
       "6                           1                     0   \n",
       "7                           0                     0   \n",
       "\n",
       "   shopping_mall_Mall of Istanbul  shopping_mall_Metrocity  \\\n",
       "0                               0                        0   \n",
       "2                               0                        1   \n",
       "5                               0                        0   \n",
       "6                               0                        0   \n",
       "7                               1                        0   \n",
       "\n",
       "   shopping_mall_Metropol AVM  shopping_mall_Viaport Outlet  \\\n",
       "0                           0                             0   \n",
       "2                           0                             0   \n",
       "5                           0                             0   \n",
       "6                           0                             0   \n",
       "7                           0                             0   \n",
       "\n",
       "   shopping_mall_Zorlu Center  normalized_age  normalized_price  \n",
       "0                           0        0.196078          0.285648  \n",
       "2                           0        0.039216          0.011235  \n",
       "5                           0        0.196078          0.285648  \n",
       "6                           0        0.607843          0.001350  \n",
       "7                           0        0.274510          0.045536  "
      ]
     },
     "execution_count": 77,
     "metadata": {},
     "output_type": "execute_result"
    }
   ],
   "source": [
    "df_dummy.head()"
   ]
  },
  {
   "attachments": {},
   "cell_type": "markdown",
   "metadata": {},
   "source": [
    "We are now ready to run our models"
   ]
  },
  {
   "attachments": {},
   "cell_type": "markdown",
   "metadata": {},
   "source": [
    "## Running the Models\n",
    "\n",
    "We are working with a 80/20 train test split for all of our models. \n",
    "\n",
    "We start with a Gaussian Naive Bayes. We chose this model because of its simplicity and overall effectiveness. Since our dataset is fairly simple, we expect a high accuracy without optimization, and chances of overfitting will be low for this particular classification."
   ]
  },
  {
   "attachments": {},
   "cell_type": "markdown",
   "metadata": {},
   "source": [
    "### Gaussian Naive Bayes with labels = yes or no or maybe"
   ]
  },
  {
   "cell_type": "code",
   "execution_count": 78,
   "metadata": {},
   "outputs": [
    {
     "name": "stdout",
     "output_type": "stream",
     "text": [
      "(69356, 18) (69356,)\n"
     ]
    }
   ],
   "source": [
    "# Naive Bayes Model formatting\n",
    "X = df_dummy\n",
    "y = df.Should_We_Market\n",
    "\n",
    "print(X.shape, y.shape)\n",
    "X_train, X_test, y_train, y_test = train_test_split(\n",
    "    X, y, test_size=0.2, random_state=125\n",
    ")"
   ]
  },
  {
   "cell_type": "code",
   "execution_count": 79,
   "metadata": {},
   "outputs": [
    {
     "name": "stdout",
     "output_type": "stream",
     "text": [
      "Accuracy: 0.6008506343713956\n",
      "F1 Score: 0.6575598917743605\n",
      "\n",
      "Precision for Label maybe : 0.6384685923888125\n",
      "Precision for Label no : 0.5991282968261064\n",
      "Precision for Label yes : 0.33629893238434166\n",
      "\n",
      "Recall for Label maybe : 0.49910394265232977\n",
      "Recall for Label no : 0.9643820831084727\n",
      "Recall for Label yes : 0.06915477497255763\n"
     ]
    },
    {
     "data": {
      "image/png": "[encoded data removed]",
      "text/plain": [
       "<Figure size 432x288 with 2 Axes>"
      ]
     },
     "metadata": {
      "needs_background": "light"
     },
     "output_type": "display_data"
    }
   ],
   "source": [
    "# Build a Gaussian Classifier\n",
    "model = GaussianNB()\n",
    "\n",
    "# Model training\n",
    "model.fit(X_train, y_train)\n",
    "\n",
    "y_pred = model.predict(X_test)\n",
    "accuracy = accuracy_score(y_pred, y_test)\n",
    "f1 = f1_score(y_pred, y_test, average=\"weighted\")\n",
    "\n",
    "print(\"Accuracy:\", accuracy)\n",
    "print(\"F1 Score:\", f1)\n",
    "print()\n",
    "\n",
    "cm = confusion_matrix(y_test, y_pred, labels=[\"maybe\", \"no\", \"yes\"])\n",
    "disp = ConfusionMatrixDisplay(confusion_matrix=cm, display_labels=[\"maybe\", \"no\", \"yes\"])\n",
    "disp.plot();\n",
    "\n",
    "# Calculate recall and precision per label\n",
    "precision = precision_score(y_test, y_pred, average=None)\n",
    "recall = recall_score(y_test, y_pred, average=None)\n",
    "labels = sorted(set(y_test))\n",
    "\n",
    "for label, score in zip(labels, precision):\n",
    "    print(\"Precision for Label\", label, \":\", score)\n",
    "print()\n",
    "for label, score in zip(labels, recall):\n",
    "    print(\"Recall for Label\", label, \":\", score)"
   ]
  },
  {
   "cell_type": "code",
   "execution_count": 80,
   "metadata": {},
   "outputs": [
    {
     "name": "stdout",
     "output_type": "stream",
     "text": [
      "                                 gender_Female  gender_Male  \\\n",
      "gender_Female                         1.000000    -1.000000   \n",
      "gender_Male                          -1.000000     1.000000   \n",
      "category_Clothing                     0.000753    -0.000753   \n",
      "category_Cosmetics                    0.002495    -0.002495   \n",
      "category_Food & Beverage             -0.002794     0.002794   \n",
      "category_Technology                  -0.001015     0.001015   \n",
      "shopping_mall_Cevahir AVM            -0.004580     0.004580   \n",
      "shopping_mall_Emaar Square Mall      -0.006902     0.006902   \n",
      "shopping_mall_Forum Istanbul          0.004914    -0.004914   \n",
      "shopping_mall_Istinye Park            0.003032    -0.003032   \n",
      "shopping_mall_Kanyon                  0.004849    -0.004849   \n",
      "shopping_mall_Mall of Istanbul       -0.001230     0.001230   \n",
      "shopping_mall_Metrocity              -0.002554     0.002554   \n",
      "shopping_mall_Metropol AVM            0.003761    -0.003761   \n",
      "shopping_mall_Viaport Outlet         -0.000451     0.000451   \n",
      "shopping_mall_Zorlu Center           -0.004765     0.004765   \n",
      "normalized_age                        0.000385    -0.000385   \n",
      "normalized_price                      0.000480    -0.000480   \n",
      "\n",
      "                                 category_Clothing  category_Cosmetics  \\\n",
      "gender_Female                             0.000753            0.002495   \n",
      "gender_Male                              -0.000753           -0.002495   \n",
      "category_Clothing                         1.000000           -0.524587   \n",
      "category_Cosmetics                       -0.524587            1.000000   \n",
      "category_Food & Beverage                 -0.517451           -0.274455   \n",
      "category_Technology                      -0.277084           -0.146965   \n",
      "shopping_mall_Cevahir AVM                -0.000777           -0.004390   \n",
      "shopping_mall_Emaar Square Mall          -0.003050            0.004440   \n",
      "shopping_mall_Forum Istanbul              0.002122            0.003234   \n",
      "shopping_mall_Istinye Park               -0.002165           -0.002301   \n",
      "shopping_mall_Kanyon                     -0.000476            0.002264   \n",
      "shopping_mall_Mall of Istanbul           -0.000870            0.001229   \n",
      "shopping_mall_Metrocity                   0.001811           -0.003040   \n",
      "shopping_mall_Metropol AVM                0.001995            0.000815   \n",
      "shopping_mall_Viaport Outlet              0.000259           -0.002069   \n",
      "shopping_mall_Zorlu Center                0.001078           -0.000525   \n",
      "normalized_age                           -0.001508            0.005240   \n",
      "normalized_price                          0.169344           -0.267708   \n",
      "\n",
      "                                 category_Food & Beverage  \\\n",
      "gender_Female                                   -0.002794   \n",
      "gender_Male                                      0.002794   \n",
      "category_Clothing                               -0.517451   \n",
      "category_Cosmetics                              -0.274455   \n",
      "category_Food & Beverage                         1.000000   \n",
      "category_Technology                             -0.144966   \n",
      "shopping_mall_Cevahir AVM                        0.004621   \n",
      "shopping_mall_Emaar Square Mall                 -0.004115   \n",
      "shopping_mall_Forum Istanbul                    -0.003556   \n",
      "shopping_mall_Istinye Park                       0.005196   \n",
      "shopping_mall_Kanyon                            -0.002156   \n",
      "shopping_mall_Mall of Istanbul                  -0.001261   \n",
      "shopping_mall_Metrocity                         -0.000335   \n",
      "shopping_mall_Metropol AVM                       0.001826   \n",
      "shopping_mall_Viaport Outlet                     0.000331   \n",
      "shopping_mall_Zorlu Center                      -0.000158   \n",
      "normalized_age                                  -0.002694   \n",
      "normalized_price                                -0.312536   \n",
      "\n",
      "                                 category_Technology  \\\n",
      "gender_Female                              -0.001015   \n",
      "gender_Male                                 0.001015   \n",
      "category_Clothing                          -0.277084   \n",
      "category_Cosmetics                         -0.146965   \n",
      "category_Food & Beverage                   -0.144966   \n",
      "category_Technology                         1.000000   \n",
      "shopping_mall_Cevahir AVM                   0.001192   \n",
      "shopping_mall_Emaar Square Mall             0.005329   \n",
      "shopping_mall_Forum Istanbul               -0.003634   \n",
      "shopping_mall_Istinye Park                 -0.000369   \n",
      "shopping_mall_Kanyon                        0.000722   \n",
      "shopping_mall_Mall of Istanbul              0.001717   \n",
      "shopping_mall_Metrocity                     0.001881   \n",
      "shopping_mall_Metropol AVM                 -0.008052   \n",
      "shopping_mall_Viaport Outlet                0.002276   \n",
      "shopping_mall_Zorlu Center                 -0.000995   \n",
      "normalized_age                             -0.001181   \n",
      "normalized_price                            0.594768   \n",
      "\n",
      "                                 shopping_mall_Cevahir AVM  \\\n",
      "gender_Female                                    -0.004580   \n",
      "gender_Male                                       0.004580   \n",
      "category_Clothing                                -0.000777   \n",
      "category_Cosmetics                               -0.004390   \n",
      "category_Food & Beverage                          0.004621   \n",
      "category_Technology                               0.001192   \n",
      "shopping_mall_Cevahir AVM                         1.000000   \n",
      "shopping_mall_Emaar Square Mall                  -0.051980   \n",
      "shopping_mall_Forum Istanbul                     -0.052618   \n",
      "shopping_mall_Istinye Park                       -0.075807   \n",
      "shopping_mall_Kanyon                             -0.114546   \n",
      "shopping_mall_Mall of Istanbul                   -0.115469   \n",
      "shopping_mall_Metrocity                          -0.097478   \n",
      "shopping_mall_Metropol AVM                       -0.077400   \n",
      "shopping_mall_Viaport Outlet                     -0.052505   \n",
      "shopping_mall_Zorlu Center                       -0.053258   \n",
      "normalized_age                                   -0.005350   \n",
      "normalized_price                                  0.001455   \n",
      "\n",
      "                                 shopping_mall_Emaar Square Mall  \\\n",
      "gender_Female                                          -0.006902   \n",
      "gender_Male                                             0.006902   \n",
      "category_Clothing                                      -0.003050   \n",
      "category_Cosmetics                                      0.004440   \n",
      "category_Food & Beverage                               -0.004115   \n",
      "category_Technology                                     0.005329   \n",
      "shopping_mall_Cevahir AVM                              -0.051980   \n",
      "shopping_mall_Emaar Square Mall                         1.000000   \n",
      "shopping_mall_Forum Istanbul                           -0.051634   \n",
      "shopping_mall_Istinye Park                             -0.074390   \n",
      "shopping_mall_Kanyon                                   -0.112404   \n",
      "shopping_mall_Mall of Istanbul                         -0.113310   \n",
      "shopping_mall_Metrocity                                -0.095655   \n",
      "shopping_mall_Metropol AVM                             -0.075953   \n",
      "shopping_mall_Viaport Outlet                           -0.051523   \n",
      "shopping_mall_Zorlu Center                             -0.052262   \n",
      "normalized_age                                          0.001901   \n",
      "normalized_price                                        0.005619   \n",
      "\n",
      "                                 shopping_mall_Forum Istanbul  \\\n",
      "gender_Female                                        0.004914   \n",
      "gender_Male                                         -0.004914   \n",
      "category_Clothing                                    0.002122   \n",
      "category_Cosmetics                                   0.003234   \n",
      "category_Food & Beverage                            -0.003556   \n",
      "category_Technology                                 -0.003634   \n",
      "shopping_mall_Cevahir AVM                           -0.052618   \n",
      "shopping_mall_Emaar Square Mall                     -0.051634   \n",
      "shopping_mall_Forum Istanbul                         1.000000   \n",
      "shopping_mall_Istinye Park                          -0.075303   \n",
      "shopping_mall_Kanyon                                -0.113784   \n",
      "shopping_mall_Mall of Istanbul                      -0.114701   \n",
      "shopping_mall_Metrocity                             -0.096829   \n",
      "shopping_mall_Metropol AVM                          -0.076885   \n",
      "shopping_mall_Viaport Outlet                        -0.052156   \n",
      "shopping_mall_Zorlu Center                          -0.052903   \n",
      "normalized_age                                      -0.001037   \n",
      "normalized_price                                    -0.003378   \n",
      "\n",
      "                                 shopping_mall_Istinye Park  \\\n",
      "gender_Female                                      0.003032   \n",
      "gender_Male                                       -0.003032   \n",
      "category_Clothing                                 -0.002165   \n",
      "category_Cosmetics                                -0.002301   \n",
      "category_Food & Beverage                           0.005196   \n",
      "category_Technology                               -0.000369   \n",
      "shopping_mall_Cevahir AVM                         -0.075807   \n",
      "shopping_mall_Emaar Square Mall                   -0.074390   \n",
      "shopping_mall_Forum Istanbul                      -0.075303   \n",
      "shopping_mall_Istinye Park                         1.000000   \n",
      "shopping_mall_Kanyon                              -0.163930   \n",
      "shopping_mall_Mall of Istanbul                    -0.165251   \n",
      "shopping_mall_Metrocity                           -0.139504   \n",
      "shopping_mall_Metropol AVM                        -0.110770   \n",
      "shopping_mall_Viaport Outlet                      -0.075142   \n",
      "shopping_mall_Zorlu Center                        -0.076218   \n",
      "normalized_age                                    -0.002664   \n",
      "normalized_price                                  -0.001567   \n",
      "\n",
      "                                 shopping_mall_Kanyon  \\\n",
      "gender_Female                                0.004849   \n",
      "gender_Male                                 -0.004849   \n",
      "category_Clothing                           -0.000476   \n",
      "category_Cosmetics                           0.002264   \n",
      "category_Food & Beverage                    -0.002156   \n",
      "category_Technology                          0.000722   \n",
      "shopping_mall_Cevahir AVM                   -0.114546   \n",
      "shopping_mall_Emaar Square Mall             -0.112404   \n",
      "shopping_mall_Forum Istanbul                -0.113784   \n",
      "shopping_mall_Istinye Park                  -0.163930   \n",
      "shopping_mall_Kanyon                         1.000000   \n",
      "shopping_mall_Mall of Istanbul              -0.249698   \n",
      "shopping_mall_Metrocity                     -0.210793   \n",
      "shopping_mall_Metropol AVM                  -0.167375   \n",
      "shopping_mall_Viaport Outlet                -0.113540   \n",
      "shopping_mall_Zorlu Center                  -0.115167   \n",
      "normalized_age                               0.000589   \n",
      "normalized_price                             0.003900   \n",
      "\n",
      "                                 shopping_mall_Mall of Istanbul  \\\n",
      "gender_Female                                         -0.001230   \n",
      "gender_Male                                            0.001230   \n",
      "category_Clothing                                     -0.000870   \n",
      "category_Cosmetics                                     0.001229   \n",
      "category_Food & Beverage                              -0.001261   \n",
      "category_Technology                                    0.001717   \n",
      "shopping_mall_Cevahir AVM                             -0.115469   \n",
      "shopping_mall_Emaar Square Mall                       -0.113310   \n",
      "shopping_mall_Forum Istanbul                          -0.114701   \n",
      "shopping_mall_Istinye Park                            -0.165251   \n",
      "shopping_mall_Kanyon                                  -0.249698   \n",
      "shopping_mall_Mall of Istanbul                         1.000000   \n",
      "shopping_mall_Metrocity                               -0.212491   \n",
      "shopping_mall_Metropol AVM                            -0.168724   \n",
      "shopping_mall_Viaport Outlet                          -0.114455   \n",
      "shopping_mall_Zorlu Center                            -0.116095   \n",
      "normalized_age                                         0.003797   \n",
      "normalized_price                                       0.001860   \n",
      "\n",
      "                                 shopping_mall_Metrocity  \\\n",
      "gender_Female                                  -0.002554   \n",
      "gender_Male                                     0.002554   \n",
      "category_Clothing                               0.001811   \n",
      "category_Cosmetics                             -0.003040   \n",
      "category_Food & Beverage                       -0.000335   \n",
      "category_Technology                             0.001881   \n",
      "shopping_mall_Cevahir AVM                      -0.097478   \n",
      "shopping_mall_Emaar Square Mall                -0.095655   \n",
      "shopping_mall_Forum Istanbul                   -0.096829   \n",
      "shopping_mall_Istinye Park                     -0.139504   \n",
      "shopping_mall_Kanyon                           -0.210793   \n",
      "shopping_mall_Mall of Istanbul                 -0.212491   \n",
      "shopping_mall_Metrocity                         1.000000   \n",
      "shopping_mall_Metropol AVM                     -0.142435   \n",
      "shopping_mall_Viaport Outlet                   -0.096622   \n",
      "shopping_mall_Zorlu Center                     -0.098007   \n",
      "normalized_age                                  0.001466   \n",
      "normalized_price                               -0.003285   \n",
      "\n",
      "                                 shopping_mall_Metropol AVM  \\\n",
      "gender_Female                                      0.003761   \n",
      "gender_Male                                       -0.003761   \n",
      "category_Clothing                                  0.001995   \n",
      "category_Cosmetics                                 0.000815   \n",
      "category_Food & Beverage                           0.001826   \n",
      "category_Technology                               -0.008052   \n",
      "shopping_mall_Cevahir AVM                         -0.077400   \n",
      "shopping_mall_Emaar Square Mall                   -0.075953   \n",
      "shopping_mall_Forum Istanbul                      -0.076885   \n",
      "shopping_mall_Istinye Park                        -0.110770   \n",
      "shopping_mall_Kanyon                              -0.167375   \n",
      "shopping_mall_Mall of Istanbul                    -0.168724   \n",
      "shopping_mall_Metrocity                           -0.142435   \n",
      "shopping_mall_Metropol AVM                         1.000000   \n",
      "shopping_mall_Viaport Outlet                      -0.076721   \n",
      "shopping_mall_Zorlu Center                        -0.077820   \n",
      "normalized_age                                    -0.001310   \n",
      "normalized_price                                  -0.006494   \n",
      "\n",
      "                                 shopping_mall_Viaport Outlet  \\\n",
      "gender_Female                                       -0.000451   \n",
      "gender_Male                                          0.000451   \n",
      "category_Clothing                                    0.000259   \n",
      "category_Cosmetics                                  -0.002069   \n",
      "category_Food & Beverage                             0.000331   \n",
      "category_Technology                                  0.002276   \n",
      "shopping_mall_Cevahir AVM                           -0.052505   \n",
      "shopping_mall_Emaar Square Mall                     -0.051523   \n",
      "shopping_mall_Forum Istanbul                        -0.052156   \n",
      "shopping_mall_Istinye Park                          -0.075142   \n",
      "shopping_mall_Kanyon                                -0.113540   \n",
      "shopping_mall_Mall of Istanbul                      -0.114455   \n",
      "shopping_mall_Metrocity                             -0.096622   \n",
      "shopping_mall_Metropol AVM                          -0.076721   \n",
      "shopping_mall_Viaport Outlet                         1.000000   \n",
      "shopping_mall_Zorlu Center                          -0.052790   \n",
      "normalized_age                                      -0.002514   \n",
      "normalized_price                                     0.002839   \n",
      "\n",
      "                                 shopping_mall_Zorlu Center  normalized_age  \\\n",
      "gender_Female                                     -0.004765        0.000385   \n",
      "gender_Male                                        0.004765       -0.000385   \n",
      "category_Clothing                                  0.001078       -0.001508   \n",
      "category_Cosmetics                                -0.000525        0.005240   \n",
      "category_Food & Beverage                          -0.000158       -0.002694   \n",
      "category_Technology                               -0.000995       -0.001181   \n",
      "shopping_mall_Cevahir AVM                         -0.053258       -0.005350   \n",
      "shopping_mall_Emaar Square Mall                   -0.052262        0.001901   \n",
      "shopping_mall_Forum Istanbul                      -0.052903       -0.001037   \n",
      "shopping_mall_Istinye Park                        -0.076218       -0.002664   \n",
      "shopping_mall_Kanyon                              -0.115167        0.000589   \n",
      "shopping_mall_Mall of Istanbul                    -0.116095        0.003797   \n",
      "shopping_mall_Metrocity                           -0.098007        0.001466   \n",
      "shopping_mall_Metropol AVM                        -0.077820       -0.001310   \n",
      "shopping_mall_Viaport Outlet                      -0.052790       -0.002514   \n",
      "shopping_mall_Zorlu Center                         1.000000        0.001984   \n",
      "normalized_age                                     0.001984        1.000000   \n",
      "normalized_price                                  -0.000461        0.005889   \n",
      "\n",
      "                                 normalized_price  \n",
      "gender_Female                            0.000480  \n",
      "gender_Male                             -0.000480  \n",
      "category_Clothing                        0.169344  \n",
      "category_Cosmetics                      -0.267708  \n",
      "category_Food & Beverage                -0.312536  \n",
      "category_Technology                      0.594768  \n",
      "shopping_mall_Cevahir AVM                0.001455  \n",
      "shopping_mall_Emaar Square Mall          0.005619  \n",
      "shopping_mall_Forum Istanbul            -0.003378  \n",
      "shopping_mall_Istinye Park              -0.001567  \n",
      "shopping_mall_Kanyon                     0.003900  \n",
      "shopping_mall_Mall of Istanbul           0.001860  \n",
      "shopping_mall_Metrocity                 -0.003285  \n",
      "shopping_mall_Metropol AVM              -0.006494  \n",
      "shopping_mall_Viaport Outlet             0.002839  \n",
      "shopping_mall_Zorlu Center              -0.000461  \n",
      "normalized_age                           0.005889  \n",
      "normalized_price                         1.000000  \n"
     ]
    }
   ],
   "source": [
    "# Assuming your DataFrame is called df and contains the 4 features and 3 labels\n",
    "# Let's say the 4 features are 'feature1', 'feature2', 'feature3', 'feature4'\n",
    "# And the label column is called 'label'\n",
    "\n",
    "# Select the relevant columns for correlation analysis\n",
    "selected_columns = df_dummy.columns.tolist()\n",
    "df_selected = df_dummy[selected_columns]\n",
    "\n",
    "# Calculate the correlation coefficients\n",
    "correlation_matrix = df_selected.corr()\n",
    "\n",
    "# Print the correlation matrix\n",
    "print(correlation_matrix)\n"
   ]
  },
  {
   "attachments": {},
   "cell_type": "markdown",
   "metadata": {},
   "source": [
    "We can see that accuracy is low, and we realize further that this is wrong for the following reasons:\n",
    "\n",
    "1. We calculated the labels based on the total_price column of the feature set, thereby increasing correlation significantly between these two variables, and making classification innacurate since the data was already given to the label, making prediction much harder.\n",
    "2. Naive-Bayes assumes independence between features, however, this dataset shows strong dependence between features such as gender (both are strongly negatively correlated).\n",
    "\n",
    "Now we will repurpose our statement to classify shopper's spending categories based on spending habits and gender and age instead."
   ]
  },
  {
   "attachments": {},
   "cell_type": "markdown",
   "metadata": {},
   "source": [
    "# Part 2: Updated Problem Statement \n",
    "\n",
    "We now want to move onto our updated problem statement of focusing on a predictive model for shopper segmentation, where shoppers are grouped into distinct categories based on their preferences and purchase patterns. We want to step away from the yes, maybe, no concept of the class label entirely due to the aforementioned reasons and pivot into something that is more applicable of an implementation. \n",
    "\n",
    "We are now predicting the Category label given the features of age, gender, shopping mall, and total price to start with to essentially utilize this demographic and past purchasing information to segment shoppers into categories, which can then be utilized for any future targeted marketing campaigns Eg: Aiming to focus on technology enthusiasts for a technology sale.  "
   ]
  },
  {
   "attachments": {},
   "cell_type": "markdown",
   "metadata": {},
   "source": [
    "## Random Forest Classification for Feature Selection"
   ]
  },
  {
   "attachments": {},
   "cell_type": "markdown",
   "metadata": {},
   "source": [
    "We first take a step back and create one hot-encodings with the features we want once more. "
   ]
  },
  {
   "cell_type": "code",
   "execution_count": 81,
   "metadata": {},
   "outputs": [
    {
     "data": {
      "text/html": [
       "<div>\n",
       "<style scoped>\n",
       "    .dataframe tbody tr th:only-of-type {\n",
       "        vertical-align: middle;\n",
       "    }\n",
       "\n",
       "    .dataframe tbody tr th {\n",
       "        vertical-align: top;\n",
       "    }\n",
       "\n",
       "    .dataframe thead th {\n",
       "        text-align: right;\n",
       "    }\n",
       "</style>\n",
       "<table border=\"1\" class=\"dataframe\">\n",
       "  <thead>\n",
       "    <tr style=\"text-align: right;\">\n",
       "      <th></th>\n",
       "      <th>age</th>\n",
       "      <th>total_price</th>\n",
       "      <th>gender_Female</th>\n",
       "      <th>gender_Male</th>\n",
       "      <th>shopping_mall_Cevahir AVM</th>\n",
       "      <th>shopping_mall_Emaar Square Mall</th>\n",
       "      <th>shopping_mall_Forum Istanbul</th>\n",
       "      <th>shopping_mall_Istinye Park</th>\n",
       "      <th>shopping_mall_Kanyon</th>\n",
       "      <th>shopping_mall_Mall of Istanbul</th>\n",
       "      <th>shopping_mall_Metrocity</th>\n",
       "      <th>shopping_mall_Metropol AVM</th>\n",
       "      <th>shopping_mall_Viaport Outlet</th>\n",
       "      <th>shopping_mall_Zorlu Center</th>\n",
       "    </tr>\n",
       "  </thead>\n",
       "  <tbody>\n",
       "    <tr>\n",
       "      <th>0</th>\n",
       "      <td>28</td>\n",
       "      <td>7502.00</td>\n",
       "      <td>1</td>\n",
       "      <td>0</td>\n",
       "      <td>0</td>\n",
       "      <td>0</td>\n",
       "      <td>0</td>\n",
       "      <td>0</td>\n",
       "      <td>1</td>\n",
       "      <td>0</td>\n",
       "      <td>0</td>\n",
       "      <td>0</td>\n",
       "      <td>0</td>\n",
       "      <td>0</td>\n",
       "    </tr>\n",
       "    <tr>\n",
       "      <th>2</th>\n",
       "      <td>20</td>\n",
       "      <td>300.08</td>\n",
       "      <td>0</td>\n",
       "      <td>1</td>\n",
       "      <td>0</td>\n",
       "      <td>0</td>\n",
       "      <td>0</td>\n",
       "      <td>0</td>\n",
       "      <td>0</td>\n",
       "      <td>0</td>\n",
       "      <td>1</td>\n",
       "      <td>0</td>\n",
       "      <td>0</td>\n",
       "      <td>0</td>\n",
       "    </tr>\n",
       "    <tr>\n",
       "      <th>5</th>\n",
       "      <td>28</td>\n",
       "      <td>7502.00</td>\n",
       "      <td>1</td>\n",
       "      <td>0</td>\n",
       "      <td>0</td>\n",
       "      <td>0</td>\n",
       "      <td>1</td>\n",
       "      <td>0</td>\n",
       "      <td>0</td>\n",
       "      <td>0</td>\n",
       "      <td>0</td>\n",
       "      <td>0</td>\n",
       "      <td>0</td>\n",
       "      <td>0</td>\n",
       "    </tr>\n",
       "    <tr>\n",
       "      <th>6</th>\n",
       "      <td>49</td>\n",
       "      <td>40.66</td>\n",
       "      <td>1</td>\n",
       "      <td>0</td>\n",
       "      <td>0</td>\n",
       "      <td>0</td>\n",
       "      <td>0</td>\n",
       "      <td>1</td>\n",
       "      <td>0</td>\n",
       "      <td>0</td>\n",
       "      <td>0</td>\n",
       "      <td>0</td>\n",
       "      <td>0</td>\n",
       "      <td>0</td>\n",
       "    </tr>\n",
       "    <tr>\n",
       "      <th>7</th>\n",
       "      <td>32</td>\n",
       "      <td>1200.32</td>\n",
       "      <td>1</td>\n",
       "      <td>0</td>\n",
       "      <td>0</td>\n",
       "      <td>0</td>\n",
       "      <td>0</td>\n",
       "      <td>0</td>\n",
       "      <td>0</td>\n",
       "      <td>1</td>\n",
       "      <td>0</td>\n",
       "      <td>0</td>\n",
       "      <td>0</td>\n",
       "      <td>0</td>\n",
       "    </tr>\n",
       "  </tbody>\n",
       "</table>\n",
       "</div>"
      ],
      "text/plain": [
       "   age  total_price  gender_Female  gender_Male  shopping_mall_Cevahir AVM  \\\n",
       "0   28      7502.00              1            0                          0   \n",
       "2   20       300.08              0            1                          0   \n",
       "5   28      7502.00              1            0                          0   \n",
       "6   49        40.66              1            0                          0   \n",
       "7   32      1200.32              1            0                          0   \n",
       "\n",
       "   shopping_mall_Emaar Square Mall  shopping_mall_Forum Istanbul  \\\n",
       "0                                0                             0   \n",
       "2                                0                             0   \n",
       "5                                0                             1   \n",
       "6                                0                             0   \n",
       "7                                0                             0   \n",
       "\n",
       "   shopping_mall_Istinye Park  shopping_mall_Kanyon  \\\n",
       "0                           0                     1   \n",
       "2                           0                     0   \n",
       "5                           0                     0   \n",
       "6                           1                     0   \n",
       "7                           0                     0   \n",
       "\n",
       "   shopping_mall_Mall of Istanbul  shopping_mall_Metrocity  \\\n",
       "0                               0                        0   \n",
       "2                               0                        1   \n",
       "5                               0                        0   \n",
       "6                               0                        0   \n",
       "7                               1                        0   \n",
       "\n",
       "   shopping_mall_Metropol AVM  shopping_mall_Viaport Outlet  \\\n",
       "0                           0                             0   \n",
       "2                           0                             0   \n",
       "5                           0                             0   \n",
       "6                           0                             0   \n",
       "7                           0                             0   \n",
       "\n",
       "   shopping_mall_Zorlu Center  \n",
       "0                           0  \n",
       "2                           0  \n",
       "5                           0  \n",
       "6                           0  \n",
       "7                           0  "
      ]
     },
     "execution_count": 81,
     "metadata": {},
     "output_type": "execute_result"
    }
   ],
   "source": [
    "df_dummy = pd.get_dummies(df[['gender', 'age', 'total_price', 'shopping_mall']])\n",
    "df_dummy.head()"
   ]
  },
  {
   "attachments": {},
   "cell_type": "markdown",
   "metadata": {},
   "source": [
    "Normalizing the ages to ensure uniformity and bring them to the same range, [0,1] "
   ]
  },
  {
   "cell_type": "code",
   "execution_count": 82,
   "metadata": {},
   "outputs": [
    {
     "data": {
      "text/html": [
       "<div>\n",
       "<style scoped>\n",
       "    .dataframe tbody tr th:only-of-type {\n",
       "        vertical-align: middle;\n",
       "    }\n",
       "\n",
       "    .dataframe tbody tr th {\n",
       "        vertical-align: top;\n",
       "    }\n",
       "\n",
       "    .dataframe thead th {\n",
       "        text-align: right;\n",
       "    }\n",
       "</style>\n",
       "<table border=\"1\" class=\"dataframe\">\n",
       "  <thead>\n",
       "    <tr style=\"text-align: right;\">\n",
       "      <th></th>\n",
       "      <th>gender_Female</th>\n",
       "      <th>gender_Male</th>\n",
       "      <th>shopping_mall_Cevahir AVM</th>\n",
       "      <th>shopping_mall_Emaar Square Mall</th>\n",
       "      <th>shopping_mall_Forum Istanbul</th>\n",
       "      <th>shopping_mall_Istinye Park</th>\n",
       "      <th>shopping_mall_Kanyon</th>\n",
       "      <th>shopping_mall_Mall of Istanbul</th>\n",
       "      <th>shopping_mall_Metrocity</th>\n",
       "      <th>shopping_mall_Metropol AVM</th>\n",
       "      <th>shopping_mall_Viaport Outlet</th>\n",
       "      <th>shopping_mall_Zorlu Center</th>\n",
       "      <th>normalized_age</th>\n",
       "      <th>normalized_price</th>\n",
       "    </tr>\n",
       "  </thead>\n",
       "  <tbody>\n",
       "    <tr>\n",
       "      <th>0</th>\n",
       "      <td>1</td>\n",
       "      <td>0</td>\n",
       "      <td>0</td>\n",
       "      <td>0</td>\n",
       "      <td>0</td>\n",
       "      <td>0</td>\n",
       "      <td>1</td>\n",
       "      <td>0</td>\n",
       "      <td>0</td>\n",
       "      <td>0</td>\n",
       "      <td>0</td>\n",
       "      <td>0</td>\n",
       "      <td>0.196078</td>\n",
       "      <td>0.285648</td>\n",
       "    </tr>\n",
       "    <tr>\n",
       "      <th>2</th>\n",
       "      <td>0</td>\n",
       "      <td>1</td>\n",
       "      <td>0</td>\n",
       "      <td>0</td>\n",
       "      <td>0</td>\n",
       "      <td>0</td>\n",
       "      <td>0</td>\n",
       "      <td>0</td>\n",
       "      <td>1</td>\n",
       "      <td>0</td>\n",
       "      <td>0</td>\n",
       "      <td>0</td>\n",
       "      <td>0.039216</td>\n",
       "      <td>0.011235</td>\n",
       "    </tr>\n",
       "    <tr>\n",
       "      <th>5</th>\n",
       "      <td>1</td>\n",
       "      <td>0</td>\n",
       "      <td>0</td>\n",
       "      <td>0</td>\n",
       "      <td>1</td>\n",
       "      <td>0</td>\n",
       "      <td>0</td>\n",
       "      <td>0</td>\n",
       "      <td>0</td>\n",
       "      <td>0</td>\n",
       "      <td>0</td>\n",
       "      <td>0</td>\n",
       "      <td>0.196078</td>\n",
       "      <td>0.285648</td>\n",
       "    </tr>\n",
       "    <tr>\n",
       "      <th>6</th>\n",
       "      <td>1</td>\n",
       "      <td>0</td>\n",
       "      <td>0</td>\n",
       "      <td>0</td>\n",
       "      <td>0</td>\n",
       "      <td>1</td>\n",
       "      <td>0</td>\n",
       "      <td>0</td>\n",
       "      <td>0</td>\n",
       "      <td>0</td>\n",
       "      <td>0</td>\n",
       "      <td>0</td>\n",
       "      <td>0.607843</td>\n",
       "      <td>0.001350</td>\n",
       "    </tr>\n",
       "    <tr>\n",
       "      <th>7</th>\n",
       "      <td>1</td>\n",
       "      <td>0</td>\n",
       "      <td>0</td>\n",
       "      <td>0</td>\n",
       "      <td>0</td>\n",
       "      <td>0</td>\n",
       "      <td>0</td>\n",
       "      <td>1</td>\n",
       "      <td>0</td>\n",
       "      <td>0</td>\n",
       "      <td>0</td>\n",
       "      <td>0</td>\n",
       "      <td>0.274510</td>\n",
       "      <td>0.045536</td>\n",
       "    </tr>\n",
       "  </tbody>\n",
       "</table>\n",
       "</div>"
      ],
      "text/plain": [
       "   gender_Female  gender_Male  shopping_mall_Cevahir AVM  \\\n",
       "0              1            0                          0   \n",
       "2              0            1                          0   \n",
       "5              1            0                          0   \n",
       "6              1            0                          0   \n",
       "7              1            0                          0   \n",
       "\n",
       "   shopping_mall_Emaar Square Mall  shopping_mall_Forum Istanbul  \\\n",
       "0                                0                             0   \n",
       "2                                0                             0   \n",
       "5                                0                             1   \n",
       "6                                0                             0   \n",
       "7                                0                             0   \n",
       "\n",
       "   shopping_mall_Istinye Park  shopping_mall_Kanyon  \\\n",
       "0                           0                     1   \n",
       "2                           0                     0   \n",
       "5                           0                     0   \n",
       "6                           1                     0   \n",
       "7                           0                     0   \n",
       "\n",
       "   shopping_mall_Mall of Istanbul  shopping_mall_Metrocity  \\\n",
       "0                               0                        0   \n",
       "2                               0                        1   \n",
       "5                               0                        0   \n",
       "6                               0                        0   \n",
       "7                               1                        0   \n",
       "\n",
       "   shopping_mall_Metropol AVM  shopping_mall_Viaport Outlet  \\\n",
       "0                           0                             0   \n",
       "2                           0                             0   \n",
       "5                           0                             0   \n",
       "6                           0                             0   \n",
       "7                           0                             0   \n",
       "\n",
       "   shopping_mall_Zorlu Center  normalized_age  normalized_price  \n",
       "0                           0        0.196078          0.285648  \n",
       "2                           0        0.039216          0.011235  \n",
       "5                           0        0.196078          0.285648  \n",
       "6                           0        0.607843          0.001350  \n",
       "7                           0        0.274510          0.045536  "
      ]
     },
     "execution_count": 82,
     "metadata": {},
     "output_type": "execute_result"
    }
   ],
   "source": [
    "# Normalizing the ages\n",
    "min_age = df_dummy['age'].min()\n",
    "max_age = df_dummy['age'].max()\n",
    "\n",
    "# Apply min-max normalization to the 'age' column\n",
    "df_dummy['normalized_age'] = (df_dummy['age'] - min_age) / (max_age - min_age)\n",
    "\n",
    "# Normalize the prices\n",
    "min_price = df_dummy['total_price'].min()\n",
    "max_price = df_dummy['total_price'].max()\n",
    "\n",
    "# Apply min-max normalization to the 'total_price' column\n",
    "df_dummy['normalized_price'] = (df_dummy['total_price'] - min_price) / (max_price - min_price)\n",
    "df_dummy.drop(['total_price', 'age'], axis=1, inplace=True)\n",
    "df_dummy.head()"
   ]
  },
  {
   "attachments": {},
   "cell_type": "markdown",
   "metadata": {},
   "source": [
    "Finally, here we use we make use of sklearn’s Random Forest Classification to create a feature ranking \n"
   ]
  },
  {
   "cell_type": "code",
   "execution_count": 83,
   "metadata": {},
   "outputs": [
    {
     "name": "stdout",
     "output_type": "stream",
     "text": [
      "Feature ranking:\n",
      "1. Feature normalized_price (0.9858060065593116)\n",
      "2. Feature normalized_age (0.011846944180836592)\n",
      "3. Feature gender_Female (0.0002520804182885779)\n",
      "4. Feature gender_Male (0.00024285761940468056)\n",
      "5. Feature shopping_mall_Metropol AVM (0.0002015694694363572)\n",
      "6. Feature shopping_mall_Mall of Istanbul (0.0001988247971140352)\n",
      "7. Feature shopping_mall_Istinye Park (0.00019841700931480318)\n",
      "8. Feature shopping_mall_Metrocity (0.00019553445298010633)\n",
      "9. Feature shopping_mall_Forum Istanbul (0.0001947729123729825)\n",
      "10. Feature shopping_mall_Emaar Square Mall (0.00018771851933093808)\n",
      "11. Feature shopping_mall_Viaport Outlet (0.00018471932100420173)\n",
      "12. Feature shopping_mall_Zorlu Center (0.00016691130108420184)\n",
      "13. Feature shopping_mall_Cevahir AVM (0.00016553639941709733)\n",
      "14. Feature shopping_mall_Kanyon (0.00015810704010384475)\n"
     ]
    }
   ],
   "source": [
    "X = df_dummy\n",
    "y = df.category\n",
    "\n",
    "X_train, X_test, y_train, y_test = train_test_split(X, y, test_size=0.2, random_state=42)\n",
    "\n",
    "# Create a Random Forest classifier\n",
    "rf_classifier = RandomForestClassifier()\n",
    "\n",
    "rf_classifier.fit(X_train, y_train)\n",
    "\n",
    "# Get feature importances\n",
    "importances = rf_classifier.feature_importances_\n",
    "\n",
    "# Sort feature importances in descending order\n",
    "indices = importances.argsort()[::-1]\n",
    "print(\"Feature ranking:\")\n",
    "for f in range(X.shape[1]):\n",
    "    print(f\"{f + 1}. Feature {X.columns[indices[f]]} ({importances[indices[f]]})\")"
   ]
  },
  {
   "attachments": {},
   "cell_type": "markdown",
   "metadata": {},
   "source": [
    "According to this dataset, gender and shopping mall dont make a big difference in classififcation which lines up with our earlier observations (mean spending is the same per category for males and females and mean spending is around the same in each shopping mall for males and females ), so let’s drop these and try Naive Bayes again.\n"
   ]
  },
  {
   "attachments": {},
   "cell_type": "markdown",
   "metadata": {},
   "source": [
    "### Gaussian Naive Bayes with new labels based on categories"
   ]
  },
  {
   "cell_type": "code",
   "execution_count": 84,
   "metadata": {},
   "outputs": [],
   "source": [
    "# dropping useless features according to Random Forest\n",
    "df_dummy.drop(['gender_Female', 'gender_Male', 'shopping_mall_Mall of Istanbul',\n",
    "               'shopping_mall_Metrocity', 'shopping_mall_Forum Istanbul', 'shopping_mall_Viaport Outlet',\n",
    "               'shopping_mall_Emaar Square Mall', 'shopping_mall_Kanyon', 'shopping_mall_Istinye Park',\n",
    "               'shopping_mall_Zorlu Center', 'shopping_mall_Cevahir AVM', 'shopping_mall_Metropol AVM'], axis=1, inplace=True)"
   ]
  },
  {
   "cell_type": "code",
   "execution_count": 85,
   "metadata": {},
   "outputs": [
    {
     "name": "stdout",
     "output_type": "stream",
     "text": [
      "(69356, 2) (69356,)\n"
     ]
    }
   ],
   "source": [
    "X = df_dummy\n",
    "y = df.category\n",
    "\n",
    "print(X.shape, y.shape)\n",
    "X_train, X_test, y_train, y_test = train_test_split(\n",
    "    X, y, test_size=0.2, random_state=125\n",
    ")"
   ]
  },
  {
   "attachments": {},
   "cell_type": "markdown",
   "metadata": {},
   "source": [
    "We are now just working with the following features to predict the category"
   ]
  },
  {
   "cell_type": "code",
   "execution_count": 86,
   "metadata": {},
   "outputs": [
    {
     "data": {
      "text/html": [
       "<div>\n",
       "<style scoped>\n",
       "    .dataframe tbody tr th:only-of-type {\n",
       "        vertical-align: middle;\n",
       "    }\n",
       "\n",
       "    .dataframe tbody tr th {\n",
       "        vertical-align: top;\n",
       "    }\n",
       "\n",
       "    .dataframe thead th {\n",
       "        text-align: right;\n",
       "    }\n",
       "</style>\n",
       "<table border=\"1\" class=\"dataframe\">\n",
       "  <thead>\n",
       "    <tr style=\"text-align: right;\">\n",
       "      <th></th>\n",
       "      <th>normalized_age</th>\n",
       "      <th>normalized_price</th>\n",
       "    </tr>\n",
       "  </thead>\n",
       "  <tbody>\n",
       "    <tr>\n",
       "      <th>0</th>\n",
       "      <td>0.196078</td>\n",
       "      <td>0.285648</td>\n",
       "    </tr>\n",
       "    <tr>\n",
       "      <th>2</th>\n",
       "      <td>0.039216</td>\n",
       "      <td>0.011235</td>\n",
       "    </tr>\n",
       "    <tr>\n",
       "      <th>5</th>\n",
       "      <td>0.196078</td>\n",
       "      <td>0.285648</td>\n",
       "    </tr>\n",
       "    <tr>\n",
       "      <th>6</th>\n",
       "      <td>0.607843</td>\n",
       "      <td>0.001350</td>\n",
       "    </tr>\n",
       "    <tr>\n",
       "      <th>7</th>\n",
       "      <td>0.274510</td>\n",
       "      <td>0.045536</td>\n",
       "    </tr>\n",
       "    <tr>\n",
       "      <th>...</th>\n",
       "      <td>...</td>\n",
       "      <td>...</td>\n",
       "    </tr>\n",
       "    <tr>\n",
       "      <th>99446</th>\n",
       "      <td>0.274510</td>\n",
       "      <td>0.000000</td>\n",
       "    </tr>\n",
       "    <tr>\n",
       "      <th>99449</th>\n",
       "      <td>0.921569</td>\n",
       "      <td>0.011235</td>\n",
       "    </tr>\n",
       "    <tr>\n",
       "      <th>99453</th>\n",
       "      <td>0.176471</td>\n",
       "      <td>0.000598</td>\n",
       "    </tr>\n",
       "    <tr>\n",
       "      <th>99454</th>\n",
       "      <td>0.882353</td>\n",
       "      <td>0.000598</td>\n",
       "    </tr>\n",
       "    <tr>\n",
       "      <th>99455</th>\n",
       "      <td>0.745098</td>\n",
       "      <td>0.639928</td>\n",
       "    </tr>\n",
       "  </tbody>\n",
       "</table>\n",
       "<p>69356 rows × 2 columns</p>\n",
       "</div>"
      ],
      "text/plain": [
       "       normalized_age  normalized_price\n",
       "0            0.196078          0.285648\n",
       "2            0.039216          0.011235\n",
       "5            0.196078          0.285648\n",
       "6            0.607843          0.001350\n",
       "7            0.274510          0.045536\n",
       "...               ...               ...\n",
       "99446        0.274510          0.000000\n",
       "99449        0.921569          0.011235\n",
       "99453        0.176471          0.000598\n",
       "99454        0.882353          0.000598\n",
       "99455        0.745098          0.639928\n",
       "\n",
       "[69356 rows x 2 columns]"
      ]
     },
     "execution_count": 86,
     "metadata": {},
     "output_type": "execute_result"
    }
   ],
   "source": [
    "X"
   ]
  },
  {
   "attachments": {},
   "cell_type": "markdown",
   "metadata": {},
   "source": [
    "### Gaussian Naive Bayes: Round 2 \n",
    "\n",
    "\n",
    "Class labels - \n",
    "<Clothing, Cosmetics, Food & Beverage, Technology>\n",
    "\n",
    "Features - \n",
    "<normalized_Age, normalized_Total_Price> \n",
    "\n"
   ]
  },
  {
   "cell_type": "code",
   "execution_count": 87,
   "metadata": {},
   "outputs": [
    {
     "name": "stdout",
     "output_type": "stream",
     "text": [
      "Accuracy: 0.8123558246828143\n",
      "F1 Score: 0.814141426450746\n",
      "\n",
      "Precision for Label Clothing : 0.9324958123953099\n",
      "Precision for Label Cosmetics : 0.6092564491654021\n",
      "Precision for Label Food & Beverage : 0.8169879854708019\n",
      "Precision for Label Technology : 1.0\n",
      "\n",
      "Recall for Label Clothing : 0.8043635312816068\n",
      "Recall for Label Cosmetics : 0.7862271540469974\n",
      "Recall for Label Food & Beverage : 1.0\n",
      "Recall for Label Technology : 0.38317757009345793\n"
     ]
    },
    {
     "data": {
      "image/png": "[encoded data removed]",
      "text/plain": [
       "<Figure size 432x288 with 2 Axes>"
      ]
     },
     "metadata": {
      "needs_background": "light"
     },
     "output_type": "display_data"
    }
   ],
   "source": [
    "# Build a Gaussian Classifier\n",
    "model = GaussianNB()\n",
    "\n",
    "# Model training\n",
    "model.fit(X_train, y_train)\n",
    "\n",
    "y_pred = model.predict(X_test)\n",
    "accuracy = accuracy_score(y_pred, y_test)\n",
    "f1 = f1_score(y_pred, y_test, average=\"weighted\")\n",
    "\n",
    "print(\"Accuracy:\", accuracy)\n",
    "print(\"F1 Score:\", f1)\n",
    "print()\n",
    "\n",
    "cm = confusion_matrix(y_test, y_pred, labels=[\"Clothing\", \"Cosmetics\", \"Food & Beverage\", \"Technology\"])\n",
    "disp = ConfusionMatrixDisplay(confusion_matrix=cm, display_labels=[\"Clothing\", \"Cosmetics\", \"Food & Beverage\", \"Technology\"])\n",
    "disp.plot();\n",
    "\n",
    "# Calculate recall and precision per label\n",
    "precision = precision_score(y_test, y_pred, average=None)\n",
    "recall = recall_score(y_test, y_pred, average=None)\n",
    "labels = sorted(set(y_test))\n",
    "\n",
    "for label, score in zip(labels, precision):\n",
    "    print(\"Precision for Label\", label, \":\", score)\n",
    "print()\n",
    "for label, score in zip(labels, recall):\n",
    "    print(\"Recall for Label\", label, \":\", score)\n",
    "\n",
    "\n",
    "# interpret results in writeup using https://www.v7labs.com/blog/confusion-matrix-guide"
   ]
  },
  {
   "attachments": {},
   "cell_type": "markdown",
   "metadata": {},
   "source": [
    "Accuracy is a lot better because there is less dependency between the features, and labels were created without relying on any features."
   ]
  },
  {
   "attachments": {},
   "cell_type": "markdown",
   "metadata": {},
   "source": [
    "We can see from the confusion matrix how clothing produced the most matches, and cosmetics provided least, but still produced a high recall and precision rate. As for technology and food & beverage labels, these are expectedly worse with recall on test data due to the size of sampling. As shown earlier, technology and food & bev. came last with least number of samples, making it so that they are likely to overfit quicker and perform worser on test data compared to the other labels. One way to fix this issue would be oversample technology and food & bev. labels. "
   ]
  },
  {
   "attachments": {},
   "cell_type": "markdown",
   "metadata": {},
   "source": [
    "### Stratified K-fold cross validation for Naive Bayes without Gender and Shopping Mall features\n",
    "\n",
    "We still conduct Stratified K-fold cross validation to re-evaluate the performace of our model to hopefully be made aware of any bias or overfitting. Here we are choosing to do 10-folds. We are choosing to use stratified k-fold because this is an imbalanced dataset, and there are many more samples of Food and Beverage than there are Technology, so by using stratified k-fold cross validation, we have a representative sample of all the classes in the dataset in each fold. "
   ]
  },
  {
   "cell_type": "code",
   "execution_count": 88,
   "metadata": {},
   "outputs": [
    {
     "name": "stdout",
     "output_type": "stream",
     "text": [
      "Accuracy from each fold = \n",
      "[0.81199538638985, 0.8184832756632064, 0.8171856978085352, 0.8114186851211073, 0.8124279123414071, 0.828719723183391, 0.8152847873107426, 0.8116798846431147, 0.8108147080028839, 0.813410237923576]\n",
      "\n",
      "Average accuracy = \n",
      "0.8151420298387814\n"
     ]
    }
   ],
   "source": [
    "kf = StratifiedKFold(n_splits=10, random_state=40, shuffle=True) \n",
    "accscore = []\n",
    "classifier2 = GaussianNB()\n",
    "\n",
    "for train_index , test_index in kf.split(X, y):\n",
    "    X_train , X_test = X.iloc[train_index],X.iloc[test_index]\n",
    "    y_train , y_test = y.iloc[train_index] , y.iloc[test_index]\n",
    "     \n",
    "    classifier2.fit(X_train, y_train.values.ravel())\n",
    "    Y_pred = classifier2.predict(X_test)\n",
    "\n",
    "     \n",
    "    acc2 = accuracy_score(y_test, Y_pred)\n",
    "    accscore.append(acc2)\n",
    "     \n",
    "avgscore = sum(accscore)/10\n",
    " \n",
    "print(\"Accuracy from each fold = \\n\" + str(accscore))\n",
    "print(\"\\nAverage accuracy = \\n\" + str(avgscore))"
   ]
  },
  {
   "attachments": {},
   "cell_type": "markdown",
   "metadata": {},
   "source": [
    "Hmmm, seems like the gender and shopping mall features really did not matter in the long run. Lets try another classification technique instead!\n",
    "(To learn more about stratified k-fold cross validation, visit here for more info: https://www.geeksforgeeks.org/stratified-k-fold-cross-validation/)"
   ]
  },
  {
   "attachments": {},
   "cell_type": "markdown",
   "metadata": {},
   "source": [
    "### Neural Networks:"
   ]
  },
  {
   "cell_type": "code",
   "execution_count": 89,
   "metadata": {},
   "outputs": [
    {
     "data": {
      "text/html": [
       "<div>\n",
       "<style scoped>\n",
       "    .dataframe tbody tr th:only-of-type {\n",
       "        vertical-align: middle;\n",
       "    }\n",
       "\n",
       "    .dataframe tbody tr th {\n",
       "        vertical-align: top;\n",
       "    }\n",
       "\n",
       "    .dataframe thead th {\n",
       "        text-align: right;\n",
       "    }\n",
       "</style>\n",
       "<table border=\"1\" class=\"dataframe\">\n",
       "  <thead>\n",
       "    <tr style=\"text-align: right;\">\n",
       "      <th></th>\n",
       "      <th>age</th>\n",
       "      <th>total_price</th>\n",
       "    </tr>\n",
       "  </thead>\n",
       "  <tbody>\n",
       "    <tr>\n",
       "      <th>0</th>\n",
       "      <td>28</td>\n",
       "      <td>7502.00</td>\n",
       "    </tr>\n",
       "    <tr>\n",
       "      <th>2</th>\n",
       "      <td>20</td>\n",
       "      <td>300.08</td>\n",
       "    </tr>\n",
       "    <tr>\n",
       "      <th>5</th>\n",
       "      <td>28</td>\n",
       "      <td>7502.00</td>\n",
       "    </tr>\n",
       "    <tr>\n",
       "      <th>6</th>\n",
       "      <td>49</td>\n",
       "      <td>40.66</td>\n",
       "    </tr>\n",
       "    <tr>\n",
       "      <th>7</th>\n",
       "      <td>32</td>\n",
       "      <td>1200.32</td>\n",
       "    </tr>\n",
       "  </tbody>\n",
       "</table>\n",
       "</div>"
      ],
      "text/plain": [
       "   age  total_price\n",
       "0   28      7502.00\n",
       "2   20       300.08\n",
       "5   28      7502.00\n",
       "6   49        40.66\n",
       "7   32      1200.32"
      ]
     },
     "execution_count": 89,
     "metadata": {},
     "output_type": "execute_result"
    }
   ],
   "source": [
    "df_norm = df[['age', 'total_price']].copy()\n",
    "df_norm.head()"
   ]
  },
  {
   "cell_type": "code",
   "execution_count": 90,
   "metadata": {},
   "outputs": [
    {
     "data": {
      "text/html": [
       "<div>\n",
       "<style scoped>\n",
       "    .dataframe tbody tr th:only-of-type {\n",
       "        vertical-align: middle;\n",
       "    }\n",
       "\n",
       "    .dataframe tbody tr th {\n",
       "        vertical-align: top;\n",
       "    }\n",
       "\n",
       "    .dataframe thead th {\n",
       "        text-align: right;\n",
       "    }\n",
       "</style>\n",
       "<table border=\"1\" class=\"dataframe\">\n",
       "  <thead>\n",
       "    <tr style=\"text-align: right;\">\n",
       "      <th></th>\n",
       "      <th>normalized_age</th>\n",
       "      <th>normalized_price</th>\n",
       "    </tr>\n",
       "  </thead>\n",
       "  <tbody>\n",
       "    <tr>\n",
       "      <th>0</th>\n",
       "      <td>0.196078</td>\n",
       "      <td>0.285648</td>\n",
       "    </tr>\n",
       "    <tr>\n",
       "      <th>2</th>\n",
       "      <td>0.039216</td>\n",
       "      <td>0.011235</td>\n",
       "    </tr>\n",
       "    <tr>\n",
       "      <th>5</th>\n",
       "      <td>0.196078</td>\n",
       "      <td>0.285648</td>\n",
       "    </tr>\n",
       "    <tr>\n",
       "      <th>6</th>\n",
       "      <td>0.607843</td>\n",
       "      <td>0.001350</td>\n",
       "    </tr>\n",
       "    <tr>\n",
       "      <th>7</th>\n",
       "      <td>0.274510</td>\n",
       "      <td>0.045536</td>\n",
       "    </tr>\n",
       "  </tbody>\n",
       "</table>\n",
       "</div>"
      ],
      "text/plain": [
       "   normalized_age  normalized_price\n",
       "0        0.196078          0.285648\n",
       "2        0.039216          0.011235\n",
       "5        0.196078          0.285648\n",
       "6        0.607843          0.001350\n",
       "7        0.274510          0.045536"
      ]
     },
     "execution_count": 90,
     "metadata": {},
     "output_type": "execute_result"
    }
   ],
   "source": [
    "# Normalizing the ages\n",
    "min_age = df_norm['age'].min()\n",
    "max_age = df_norm['age'].max()\n",
    "\n",
    "# Apply min-max normalization to the 'age' column\n",
    "df_norm['normalized_age'] = (df_norm['age'] - min_age) / (max_age - min_age)\n",
    "\n",
    "# Normalize the prices\n",
    "min_price = df_norm['total_price'].min()\n",
    "max_price = df_norm['total_price'].max()\n",
    "\n",
    "# Apply min-max normalization to the 'price' column\n",
    "df_norm['normalized_price'] = (df_norm['total_price'] - min_price) / (max_price - min_price)\n",
    "\n",
    "# drop converted columns\n",
    "df_norm.drop(['total_price', 'age'], axis=1, inplace=True)\n",
    "df_norm.head()"
   ]
  },
  {
   "cell_type": "code",
   "execution_count": 91,
   "metadata": {},
   "outputs": [],
   "source": [
    "# Split the data into features and target\n",
    "X = df_norm\n",
    "y = df['category']\n",
    "\n",
    "# Split the data into training and testing sets\n",
    "X_train, X_test, y_train, y_test = train_test_split(X, y, test_size=0.2)"
   ]
  },
  {
   "cell_type": "code",
   "execution_count": 92,
   "metadata": {},
   "outputs": [],
   "source": [
    "# Encode target data to integer labels\n",
    "label_encoder = LabelEncoder()\n",
    "y_train_encoded = label_encoder.fit_transform(y_train)\n",
    "y_test_encoded = label_encoder.transform(y_test)\n",
    "\n",
    "# Convert target data to one-hot encoded format\n",
    "\n",
    "#keras\n",
    "# y_train_encoded = to_categorical(y_train_encoded, num_classes=4)\n",
    "# y_test_encoded = to_categorical(y_test_encoded, num_classes=4)"
   ]
  },
  {
   "cell_type": "code",
   "execution_count": 93,
   "metadata": {},
   "outputs": [],
   "source": [
    "# # converting to np arrays for model fitting with keras\n",
    "# X_train_np = X_train.values\n",
    "# X_test_np = X_test.values"
   ]
  },
  {
   "cell_type": "code",
   "execution_count": 94,
   "metadata": {},
   "outputs": [],
   "source": [
    "# # Building our NN model\n",
    "# model = keras.Sequential([\n",
    "#     keras.layers.Dense(16, activation='relu', input_shape=(2,),kernel_regularizer=regularizers.l2(0.01)),\n",
    "#     keras.layers.Dense(64, activation='relu'),\n",
    "#     keras.layers.Dense(64, activation='relu'),\n",
    "#     keras.layers.Dense(4, activation='softmax')\n",
    "# ])\n",
    "\n",
    "# # Compile the model\n",
    "# model.compile(optimizer='adam', loss='categorical_crossentropy', metrics=['accuracy'])\n",
    "\n",
    "# history = model.fit(X_train_np, y_train_encoded, epochs=25, validation_data=(X_test_np, y_test_encoded))"
   ]
  },
  {
   "cell_type": "code",
   "execution_count": 95,
   "metadata": {},
   "outputs": [],
   "source": [
    "# # Accessing loss and accuracy from the history object\n",
    "# train_loss = history.history['loss']\n",
    "# train_accuracy = history.history['accuracy']\n",
    "# val_loss = history.history['val_loss']\n",
    "# val_accuracy = history.history['val_accuracy']\n",
    "\n",
    "# epochs_range = range(25)\n",
    "\n",
    "# plt.figure(figsize=(8, 8))\n",
    "# plt.subplot(1, 2, 1)\n",
    "# plt.plot(epochs_range, train_accuracy, label='Training Accuracy')\n",
    "# plt.plot(epochs_range, val_accuracy, label='Validation Accuracy')\n",
    "# plt.legend(loc='lower right')\n",
    "# plt.title('Training and Validation Accuracy')\n",
    "\n",
    "# plt.subplot(1, 2, 2)\n",
    "# plt.plot(epochs_range, train_loss, label='Training Loss')\n",
    "# plt.plot(epochs_range, val_loss, label='Validation Loss')\n",
    "# plt.legend(loc='upper right')\n",
    "# plt.title('Training and Validation Loss')\n",
    "# plt.show()"
   ]
  },
  {
   "attachments": {},
   "cell_type": "markdown",
   "metadata": {},
   "source": [
    "As we can see from the plot, as we do more iterations of the NN, training and testing stay relatively similar, and increase in accuracy over time. "
   ]
  },
  {
   "cell_type": "code",
   "execution_count": 96,
   "metadata": {},
   "outputs": [],
   "source": [
    "# # Calculate training and testing errors\n",
    "# train_pred = model.predict(X_train_np)\n",
    "# test_pred = model.predict(X_test_np)\n",
    "# train_error = mean_squared_error(y_train_encoded, train_pred)\n",
    "# test_error = mean_squared_error(y_test_encoded, test_pred)\n",
    "\n",
    "# print(\"Training Error:\", train_error)\n",
    "# print(\"Testing Error:\", test_error)\n",
    "\n",
    "# loss, accuracy = model.evaluate(X_test_np, y_test_encoded)\n",
    "# print(\"Overall Accuracy:\", accuracy)\n",
    "# print(\"Overall Loss:\", loss)"
   ]
  },
  {
   "cell_type": "code",
   "execution_count": 97,
   "metadata": {},
   "outputs": [],
   "source": [
    "# import numpy as np\n",
    "# from sklearn.metrics import confusion_matrix\n",
    "# import matplotlib.pyplot as plt\n",
    "# import seaborn as sns\n",
    "\n",
    "# # Make predictions on test data\n",
    "# y_pred_prob = model.predict(X_test_np)\n",
    "# y_pred = np.argmax(y_pred_prob, axis=1)\n",
    "\n",
    "# # Convert true labels to class labels if needed\n",
    "# y_true = np.argmax(y_test_encoded, axis=1)\n",
    "\n",
    "# # Create confusion matrix\n",
    "# cm = confusion_matrix(y_true, y_pred)\n",
    "\n",
    "# # Plot confusion matrix\n",
    "# plt.figure(figsize=(8, 6))\n",
    "# sns.heatmap(cm, annot=True, fmt=\"d\", cmap=\"Blues\")\n",
    "# plt.title(\"Confusion Matrix\")\n",
    "# plt.xlabel(\"Predicted Labels\")\n",
    "# plt.ylabel(\"True Labels\")\n",
    "# plt.show()\n"
   ]
  },
  {
   "attachments": {},
   "cell_type": "markdown",
   "metadata": {},
   "source": [
    "As we can see from the plot, as we do more iterations of the NN, training and testing stay relatively similar, and increase in accuracy over time. Jus tlike in Naive-Bayes, Clothing label performs best."
   ]
  },
  {
   "attachments": {},
   "cell_type": "markdown",
   "metadata": {},
   "source": [
    "### KNN "
   ]
  },
  {
   "attachments": {},
   "cell_type": "markdown",
   "metadata": {},
   "source": [
    "# Part 3: Some More Experimentation\n",
    "\n",
    "We wanted to try out a K-nearest neighbor algorithm as well to see if we are able to classify these categories. We chose this model because it handles multi-class classification well and reasoning that because the average prices each category were very different from each other, it would be a good algorithm to work with. \n",
    "\n",
    "We wanted to start with exploring the dataset a little bit more once again. This time, instead of grouping by gender and category, we are only grouping by category and looking at the distribution. "
   ]
  },
  {
   "cell_type": "code",
   "execution_count": 98,
   "metadata": {},
   "outputs": [
    {
     "data": {
      "text/html": [
       "<div>\n",
       "<style scoped>\n",
       "    .dataframe tbody tr th:only-of-type {\n",
       "        vertical-align: middle;\n",
       "    }\n",
       "\n",
       "    .dataframe tbody tr th {\n",
       "        vertical-align: top;\n",
       "    }\n",
       "\n",
       "    .dataframe thead th {\n",
       "        text-align: right;\n",
       "    }\n",
       "</style>\n",
       "<table border=\"1\" class=\"dataframe\">\n",
       "  <thead>\n",
       "    <tr style=\"text-align: right;\">\n",
       "      <th></th>\n",
       "      <th>age</th>\n",
       "      <th>category</th>\n",
       "      <th>total_price</th>\n",
       "    </tr>\n",
       "  </thead>\n",
       "  <tbody>\n",
       "    <tr>\n",
       "      <th>0</th>\n",
       "      <td>28</td>\n",
       "      <td>Clothing</td>\n",
       "      <td>7502.00</td>\n",
       "    </tr>\n",
       "    <tr>\n",
       "      <th>2</th>\n",
       "      <td>20</td>\n",
       "      <td>Clothing</td>\n",
       "      <td>300.08</td>\n",
       "    </tr>\n",
       "    <tr>\n",
       "      <th>5</th>\n",
       "      <td>28</td>\n",
       "      <td>Clothing</td>\n",
       "      <td>7502.00</td>\n",
       "    </tr>\n",
       "    <tr>\n",
       "      <th>6</th>\n",
       "      <td>49</td>\n",
       "      <td>Cosmetics</td>\n",
       "      <td>40.66</td>\n",
       "    </tr>\n",
       "    <tr>\n",
       "      <th>7</th>\n",
       "      <td>32</td>\n",
       "      <td>Clothing</td>\n",
       "      <td>1200.32</td>\n",
       "    </tr>\n",
       "  </tbody>\n",
       "</table>\n",
       "</div>"
      ],
      "text/plain": [
       "   age   category  total_price\n",
       "0   28   Clothing      7502.00\n",
       "2   20   Clothing       300.08\n",
       "5   28   Clothing      7502.00\n",
       "6   49  Cosmetics        40.66\n",
       "7   32   Clothing      1200.32"
      ]
     },
     "execution_count": 98,
     "metadata": {},
     "output_type": "execute_result"
    }
   ],
   "source": [
    "df_normalized = df.copy()\n",
    "df_normalized = df_normalized.drop(['shopping_mall', 'gender', 'Should_We_Market'], axis=1)\n",
    "\n",
    "df_normalized.head()\n",
    "\n",
    "df_notnorm = df_normalized.copy()\n",
    "df_notnorm.head()"
   ]
  },
  {
   "attachments": {},
   "cell_type": "markdown",
   "metadata": {},
   "source": [
    "Normalizing the total price and age to ensure that both features get equal amount of importance and is not skewed because of the much larger values of the total price. "
   ]
  },
  {
   "cell_type": "code",
   "execution_count": 99,
   "metadata": {},
   "outputs": [
    {
     "data": {
      "text/html": [
       "<div>\n",
       "<style scoped>\n",
       "    .dataframe tbody tr th:only-of-type {\n",
       "        vertical-align: middle;\n",
       "    }\n",
       "\n",
       "    .dataframe tbody tr th {\n",
       "        vertical-align: top;\n",
       "    }\n",
       "\n",
       "    .dataframe thead th {\n",
       "        text-align: right;\n",
       "    }\n",
       "</style>\n",
       "<table border=\"1\" class=\"dataframe\">\n",
       "  <thead>\n",
       "    <tr style=\"text-align: right;\">\n",
       "      <th></th>\n",
       "      <th>category</th>\n",
       "      <th>normalized_price</th>\n",
       "      <th>normalized_age</th>\n",
       "    </tr>\n",
       "  </thead>\n",
       "  <tbody>\n",
       "    <tr>\n",
       "      <th>0</th>\n",
       "      <td>Clothing</td>\n",
       "      <td>0.285648</td>\n",
       "      <td>0.196078</td>\n",
       "    </tr>\n",
       "    <tr>\n",
       "      <th>2</th>\n",
       "      <td>Clothing</td>\n",
       "      <td>0.011235</td>\n",
       "      <td>0.039216</td>\n",
       "    </tr>\n",
       "    <tr>\n",
       "      <th>5</th>\n",
       "      <td>Clothing</td>\n",
       "      <td>0.285648</td>\n",
       "      <td>0.196078</td>\n",
       "    </tr>\n",
       "    <tr>\n",
       "      <th>6</th>\n",
       "      <td>Cosmetics</td>\n",
       "      <td>0.001350</td>\n",
       "      <td>0.607843</td>\n",
       "    </tr>\n",
       "    <tr>\n",
       "      <th>7</th>\n",
       "      <td>Clothing</td>\n",
       "      <td>0.045536</td>\n",
       "      <td>0.274510</td>\n",
       "    </tr>\n",
       "  </tbody>\n",
       "</table>\n",
       "</div>"
      ],
      "text/plain": [
       "    category  normalized_price  normalized_age\n",
       "0   Clothing          0.285648        0.196078\n",
       "2   Clothing          0.011235        0.039216\n",
       "5   Clothing          0.285648        0.196078\n",
       "6  Cosmetics          0.001350        0.607843\n",
       "7   Clothing          0.045536        0.274510"
      ]
     },
     "execution_count": 99,
     "metadata": {},
     "output_type": "execute_result"
    }
   ],
   "source": [
    "df_normalized.head()\n",
    "min_price = df_normalized['total_price'].min()\n",
    "max_price = df_normalized['total_price'].max()\n",
    "\n",
    "# Apply min-max normalization to the 'price' column\n",
    "df_normalized['normalized_price'] = (df_normalized['total_price'] - min_price) / (max_price - min_price)\n",
    "df_normalized.drop(['total_price'], axis=1, inplace=True)\n",
    "\n",
    "min_price = df_normalized['age'].min()\n",
    "max_price = df_normalized['age'].max()\n",
    "\n",
    "# Apply min-max normalization to the 'age' column\n",
    "df_normalized['normalized_age'] = (df_normalized['age'] - min_price) / (max_price - min_price)\n",
    "df_normalized.drop(['age'], axis=1, inplace=True)\n",
    "\n",
    "df_normalized.head()\n"
   ]
  },
  {
   "attachments": {},
   "cell_type": "markdown",
   "metadata": {},
   "source": [
    "Let's look at the spread with the normalized features. "
   ]
  },
  {
   "cell_type": "code",
   "execution_count": 100,
   "metadata": {},
   "outputs": [
    {
     "data": {
      "text/html": [
       "<div>\n",
       "<style scoped>\n",
       "    .dataframe tbody tr th:only-of-type {\n",
       "        vertical-align: middle;\n",
       "    }\n",
       "\n",
       "    .dataframe tbody tr th {\n",
       "        vertical-align: top;\n",
       "    }\n",
       "\n",
       "    .dataframe thead th {\n",
       "        text-align: right;\n",
       "    }\n",
       "</style>\n",
       "<table border=\"1\" class=\"dataframe\">\n",
       "  <thead>\n",
       "    <tr style=\"text-align: right;\">\n",
       "      <th></th>\n",
       "      <th>0</th>\n",
       "      <th>1</th>\n",
       "      <th>2</th>\n",
       "      <th>3</th>\n",
       "    </tr>\n",
       "  </thead>\n",
       "  <tbody>\n",
       "    <tr>\n",
       "      <th>category</th>\n",
       "      <td>Clothing</td>\n",
       "      <td>Cosmetics</td>\n",
       "      <td>Food &amp; Beverage</td>\n",
       "      <td>Technology</td>\n",
       "    </tr>\n",
       "    <tr>\n",
       "      <th>count</th>\n",
       "      <td>34487.0</td>\n",
       "      <td>15097.0</td>\n",
       "      <td>14776.0</td>\n",
       "      <td>4996.0</td>\n",
       "    </tr>\n",
       "    <tr>\n",
       "      <th>mean</th>\n",
       "      <td>0.12575</td>\n",
       "      <td>0.016945</td>\n",
       "      <td>0.001991</td>\n",
       "      <td>0.441098</td>\n",
       "    </tr>\n",
       "    <tr>\n",
       "      <th>std</th>\n",
       "      <td>0.098968</td>\n",
       "      <td>0.013407</td>\n",
       "      <td>0.001729</td>\n",
       "      <td>0.345612</td>\n",
       "    </tr>\n",
       "    <tr>\n",
       "      <th>min</th>\n",
       "      <td>0.011235</td>\n",
       "      <td>0.00135</td>\n",
       "      <td>0.0</td>\n",
       "      <td>0.039809</td>\n",
       "    </tr>\n",
       "    <tr>\n",
       "      <th>25%</th>\n",
       "      <td>0.045536</td>\n",
       "      <td>0.005998</td>\n",
       "      <td>0.000598</td>\n",
       "      <td>0.159833</td>\n",
       "    </tr>\n",
       "    <tr>\n",
       "      <th>50%</th>\n",
       "      <td>0.102706</td>\n",
       "      <td>0.013744</td>\n",
       "      <td>0.001594</td>\n",
       "      <td>0.359872</td>\n",
       "    </tr>\n",
       "    <tr>\n",
       "      <th>75%</th>\n",
       "      <td>0.182743</td>\n",
       "      <td>0.024589</td>\n",
       "      <td>0.002989</td>\n",
       "      <td>0.639928</td>\n",
       "    </tr>\n",
       "    <tr>\n",
       "      <th>max</th>\n",
       "      <td>0.285648</td>\n",
       "      <td>0.038532</td>\n",
       "      <td>0.004783</td>\n",
       "      <td>1.0</td>\n",
       "    </tr>\n",
       "  </tbody>\n",
       "</table>\n",
       "</div>"
      ],
      "text/plain": [
       "                 0          1                2           3\n",
       "category  Clothing  Cosmetics  Food & Beverage  Technology\n",
       "count      34487.0    15097.0          14776.0      4996.0\n",
       "mean       0.12575   0.016945         0.001991    0.441098\n",
       "std       0.098968   0.013407         0.001729    0.345612\n",
       "min       0.011235    0.00135              0.0    0.039809\n",
       "25%       0.045536   0.005998         0.000598    0.159833\n",
       "50%       0.102706   0.013744         0.001594    0.359872\n",
       "75%       0.182743   0.024589         0.002989    0.639928\n",
       "max       0.285648   0.038532         0.004783         1.0"
      ]
     },
     "execution_count": 100,
     "metadata": {},
     "output_type": "execute_result"
    }
   ],
   "source": [
    "df_normalized.groupby(['category'], as_index=False)['normalized_price'].describe().T.unstack()"
   ]
  },
  {
   "attachments": {},
   "cell_type": "markdown",
   "metadata": {},
   "source": [
    "It already seems to appear that, for price, the means are vastly different from category to category. To get a better sensw of these values, let's look at the not normalized version of his dataset. "
   ]
  },
  {
   "cell_type": "code",
   "execution_count": 101,
   "metadata": {},
   "outputs": [
    {
     "data": {
      "text/html": [
       "<div>\n",
       "<style scoped>\n",
       "    .dataframe tbody tr th:only-of-type {\n",
       "        vertical-align: middle;\n",
       "    }\n",
       "\n",
       "    .dataframe tbody tr th {\n",
       "        vertical-align: top;\n",
       "    }\n",
       "\n",
       "    .dataframe thead th {\n",
       "        text-align: right;\n",
       "    }\n",
       "</style>\n",
       "<table border=\"1\" class=\"dataframe\">\n",
       "  <thead>\n",
       "    <tr style=\"text-align: right;\">\n",
       "      <th></th>\n",
       "      <th>0</th>\n",
       "      <th>1</th>\n",
       "      <th>2</th>\n",
       "      <th>3</th>\n",
       "    </tr>\n",
       "  </thead>\n",
       "  <tbody>\n",
       "    <tr>\n",
       "      <th>category</th>\n",
       "      <td>Clothing</td>\n",
       "      <td>Cosmetics</td>\n",
       "      <td>Food &amp; Beverage</td>\n",
       "      <td>Technology</td>\n",
       "    </tr>\n",
       "    <tr>\n",
       "      <th>count</th>\n",
       "      <td>34487.0</td>\n",
       "      <td>15097.0</td>\n",
       "      <td>14776.0</td>\n",
       "      <td>4996.0</td>\n",
       "    </tr>\n",
       "    <tr>\n",
       "      <th>mean</th>\n",
       "      <td>3305.500364</td>\n",
       "      <td>449.947864</td>\n",
       "      <td>57.494251</td>\n",
       "      <td>11581.735388</td>\n",
       "    </tr>\n",
       "    <tr>\n",
       "      <th>std</th>\n",
       "      <td>2597.40462</td>\n",
       "      <td>351.873613</td>\n",
       "      <td>45.385558</td>\n",
       "      <td>9070.511913</td>\n",
       "    </tr>\n",
       "    <tr>\n",
       "      <th>min</th>\n",
       "      <td>300.08</td>\n",
       "      <td>40.66</td>\n",
       "      <td>5.23</td>\n",
       "      <td>1050.0</td>\n",
       "    </tr>\n",
       "    <tr>\n",
       "      <th>25%</th>\n",
       "      <td>1200.32</td>\n",
       "      <td>162.64</td>\n",
       "      <td>20.92</td>\n",
       "      <td>4200.0</td>\n",
       "    </tr>\n",
       "    <tr>\n",
       "      <th>50%</th>\n",
       "      <td>2700.72</td>\n",
       "      <td>365.94</td>\n",
       "      <td>47.07</td>\n",
       "      <td>9450.0</td>\n",
       "    </tr>\n",
       "    <tr>\n",
       "      <th>75%</th>\n",
       "      <td>4801.28</td>\n",
       "      <td>650.56</td>\n",
       "      <td>83.68</td>\n",
       "      <td>16800.0</td>\n",
       "    </tr>\n",
       "    <tr>\n",
       "      <th>max</th>\n",
       "      <td>7502.0</td>\n",
       "      <td>1016.5</td>\n",
       "      <td>130.75</td>\n",
       "      <td>26250.0</td>\n",
       "    </tr>\n",
       "  </tbody>\n",
       "</table>\n",
       "</div>"
      ],
      "text/plain": [
       "                    0           1                2             3\n",
       "category     Clothing   Cosmetics  Food & Beverage    Technology\n",
       "count         34487.0     15097.0          14776.0        4996.0\n",
       "mean      3305.500364  449.947864        57.494251  11581.735388\n",
       "std        2597.40462  351.873613        45.385558   9070.511913\n",
       "min            300.08       40.66             5.23        1050.0\n",
       "25%           1200.32      162.64            20.92        4200.0\n",
       "50%           2700.72      365.94            47.07        9450.0\n",
       "75%           4801.28      650.56            83.68       16800.0\n",
       "max            7502.0      1016.5           130.75       26250.0"
      ]
     },
     "execution_count": 101,
     "metadata": {},
     "output_type": "execute_result"
    }
   ],
   "source": [
    "df_notnorm.groupby(['category'], as_index=False)['total_price'].describe().T.unstack()\n"
   ]
  },
  {
   "cell_type": "code",
   "execution_count": 102,
   "metadata": {},
   "outputs": [
    {
     "data": {
      "text/html": [
       "<div>\n",
       "<style scoped>\n",
       "    .dataframe tbody tr th:only-of-type {\n",
       "        vertical-align: middle;\n",
       "    }\n",
       "\n",
       "    .dataframe tbody tr th {\n",
       "        vertical-align: top;\n",
       "    }\n",
       "\n",
       "    .dataframe thead th {\n",
       "        text-align: right;\n",
       "    }\n",
       "</style>\n",
       "<table border=\"1\" class=\"dataframe\">\n",
       "  <thead>\n",
       "    <tr style=\"text-align: right;\">\n",
       "      <th></th>\n",
       "      <th>0</th>\n",
       "      <th>1</th>\n",
       "      <th>2</th>\n",
       "      <th>3</th>\n",
       "    </tr>\n",
       "  </thead>\n",
       "  <tbody>\n",
       "    <tr>\n",
       "      <th>category</th>\n",
       "      <td>Clothing</td>\n",
       "      <td>Cosmetics</td>\n",
       "      <td>Food &amp; Beverage</td>\n",
       "      <td>Technology</td>\n",
       "    </tr>\n",
       "    <tr>\n",
       "      <th>count</th>\n",
       "      <td>34487.0</td>\n",
       "      <td>15097.0</td>\n",
       "      <td>14776.0</td>\n",
       "      <td>4996.0</td>\n",
       "    </tr>\n",
       "    <tr>\n",
       "      <th>mean</th>\n",
       "      <td>43.409227</td>\n",
       "      <td>43.580645</td>\n",
       "      <td>43.354426</td>\n",
       "      <td>43.368495</td>\n",
       "    </tr>\n",
       "    <tr>\n",
       "      <th>std</th>\n",
       "      <td>14.998012</td>\n",
       "      <td>14.936556</td>\n",
       "      <td>14.981172</td>\n",
       "      <td>14.83533</td>\n",
       "    </tr>\n",
       "    <tr>\n",
       "      <th>min</th>\n",
       "      <td>18.0</td>\n",
       "      <td>18.0</td>\n",
       "      <td>18.0</td>\n",
       "      <td>18.0</td>\n",
       "    </tr>\n",
       "    <tr>\n",
       "      <th>25%</th>\n",
       "      <td>30.0</td>\n",
       "      <td>31.0</td>\n",
       "      <td>31.0</td>\n",
       "      <td>31.0</td>\n",
       "    </tr>\n",
       "    <tr>\n",
       "      <th>50%</th>\n",
       "      <td>43.0</td>\n",
       "      <td>44.0</td>\n",
       "      <td>43.0</td>\n",
       "      <td>43.0</td>\n",
       "    </tr>\n",
       "    <tr>\n",
       "      <th>75%</th>\n",
       "      <td>56.0</td>\n",
       "      <td>56.0</td>\n",
       "      <td>56.0</td>\n",
       "      <td>56.0</td>\n",
       "    </tr>\n",
       "    <tr>\n",
       "      <th>max</th>\n",
       "      <td>69.0</td>\n",
       "      <td>69.0</td>\n",
       "      <td>69.0</td>\n",
       "      <td>69.0</td>\n",
       "    </tr>\n",
       "  </tbody>\n",
       "</table>\n",
       "</div>"
      ],
      "text/plain": [
       "                  0          1                2           3\n",
       "category   Clothing  Cosmetics  Food & Beverage  Technology\n",
       "count       34487.0    15097.0          14776.0      4996.0\n",
       "mean      43.409227  43.580645        43.354426   43.368495\n",
       "std       14.998012  14.936556        14.981172    14.83533\n",
       "min            18.0       18.0             18.0        18.0\n",
       "25%            30.0       31.0             31.0        31.0\n",
       "50%            43.0       44.0             43.0        43.0\n",
       "75%            56.0       56.0             56.0        56.0\n",
       "max            69.0       69.0             69.0        69.0"
      ]
     },
     "execution_count": 102,
     "metadata": {},
     "output_type": "execute_result"
    }
   ],
   "source": [
    "df_notnorm.groupby(['category'], as_index=False)['age'].describe().T.unstack()\n"
   ]
  },
  {
   "attachments": {},
   "cell_type": "markdown",
   "metadata": {},
   "source": [
    "Looking at the non-normalized version of the dataset and visualizing its spread across categories, we observe a couple of things: \n",
    "1. The means for total_price are very different from category to category. The standard deviations are also vastly varying. \n",
    "2. The means for age are pretty much consistent at ~43 from category to category. The standard deviations are also about the same at ~14.85 "
   ]
  },
  {
   "attachments": {},
   "cell_type": "markdown",
   "metadata": {},
   "source": [
    "Now that we have done some additional data explorations and are aware of the distrubiton of this dataset, let us start our model "
   ]
  },
  {
   "attachments": {},
   "cell_type": "markdown",
   "metadata": {},
   "source": [
    "Here we choose to start doing KNN with k = 5 neighbors because we only have 5 categories want to initially have flexibility in our decision boundaries. We will later we checking accuracy vs. k value to find the optimal value for k. "
   ]
  },
  {
   "cell_type": "code",
   "execution_count": 103,
   "metadata": {},
   "outputs": [
    {
     "name": "stdout",
     "output_type": "stream",
     "text": [
      "Accuracy:1.0\n",
      "F1 score:1.0\n",
      "\n",
      "Precision for Label Clothing : 1.0\n",
      "Precision for Label Cosmetics : 1.0\n",
      "Precision for Label Food & Beverage : 1.0\n",
      "Precision for Label Technology : 1.0\n",
      "\n",
      "Recall for Label Clothing : 1.0\n",
      "Recall for Label Cosmetics : 1.0\n",
      "Recall for Label Food & Beverage : 1.0\n",
      "Recall for Label Technology : 1.0\n"
     ]
    },
    {
     "data": {
      "image/png": "[encoded data removed]",
      "text/plain": [
       "<Figure size 432x288 with 2 Axes>"
      ]
     },
     "metadata": {
      "needs_background": "light"
     },
     "output_type": "display_data"
    }
   ],
   "source": [
    "classifier = KNeighborsClassifier(n_neighbors = 5, metric = 'minkowski', p = 2)\n",
    "classifier.fit(X_train, y_train)\n",
    "Y_pred = classifier.predict(X_test)\n",
    "\n",
    "acc = accuracy_score(y_test, Y_pred)\n",
    "print (\"Accuracy:\" + str(acc))\n",
    "f1 = f1_score(Y_pred, y_test, average=\"weighted\")\n",
    "print (\"F1 score:\" + str(f1))\n",
    "print()\n",
    "\n",
    "cm = confusion_matrix(y_test, Y_pred, labels=[\"Clothing\", \"Cosmetics\", \"Food & Beverage\", \"Technology\"])\n",
    "disp = ConfusionMatrixDisplay(confusion_matrix=cm, display_labels=[\"Clothing\", \"Cosmetics\", \"Food & Beverage\", \"Technology\"])\n",
    "disp.plot();\n",
    "\n",
    "# Calculate recall and precision per label\n",
    "precision = precision_score(y_test, Y_pred, average=None)\n",
    "recall = recall_score(y_test, Y_pred, average=None)\n",
    "labels = sorted(set(y_test))\n",
    "\n",
    "for label, score in zip(labels, precision):\n",
    "    print(\"Precision for Label\", label, \":\", score)\n",
    "print()\n",
    "for label, score in zip(labels, recall):\n",
    "    print(\"Recall for Label\", label, \":\", score)"
   ]
  },
  {
   "attachments": {},
   "cell_type": "markdown",
   "metadata": {},
   "source": [
    "Wow - it looks like we have 100% accuracy. As this is very high, we are worried about overfitting. Another reason behind this could just be the nature of our dataset. We have a dataset where the mean age across all categories is ~43, but the mean price per categories and the standard deviations varies by a lot from category to category. Therefore, when looking at the nearest neighbors - the distance to them specifically - , it is likely that, for this dataset, it is very easy for the model to assign clusters to them and do classification. \n",
    "\n",
    "We still conduct Stratified K-fold cross validation to re-evaluate the performace of our model to hopefully be made aware of any bias or overfitting. Here we are choosing to do 10-folds. "
   ]
  },
  {
   "cell_type": "code",
   "execution_count": 104,
   "metadata": {},
   "outputs": [
    {
     "name": "stdout",
     "output_type": "stream",
     "text": [
      "Accuracy from each fold using KNN with 5 neighbors = [1.0, 1.0, 1.0, 1.0, 1.0, 1.0, 1.0, 1.0, 1.0, 1.0]\n",
      "Average accuracy using KNN with 5 neighbors = 1.0\n",
      "Average fscore using KNN with 5 neighbors = 1.0\n",
      "\n"
     ]
    }
   ],
   "source": [
    "#KNN - 10 fold validation \n",
    "\n",
    "kf = StratifiedKFold(n_splits=10,random_state=40, shuffle=True) \n",
    "accscore = []\n",
    "fscorearr = []\n",
    "classifier = KNeighborsClassifier(n_neighbors = 5, metric = 'minkowski', p = 2)\n",
    "\n",
    "for train_index , test_index in kf.split(X, y):\n",
    "    X_train , X_test = X.iloc[train_index],X.iloc[test_index]\n",
    "    y_train , y_test = y.iloc[train_index] , y.iloc[test_index]\n",
    "     \n",
    "    #classifier.fit(X_train,y_train)\n",
    "    classifier.fit(X_train, y_train)\n",
    "    y_pred = classifier.predict(X_test)\n",
    "     \n",
    "    acc = accuracy_score(y_test, y_pred)\n",
    "    accscore.append(acc)\n",
    "    fscore = f1_score(y_test, y_pred, average=None)\n",
    "    fscorearr.append(fscore)\n",
    "\n",
    "     \n",
    "avgscore = sum(accscore)/10\n",
    "avgfscore = sum(fscore)/10\n",
    " \n",
    "print(\"Accuracy from each fold using KNN with 5 neighbors = \" + str(accscore))\n",
    "print(\"Average accuracy using KNN with 5 neighbors = \" + str(avgscore))\n",
    "print(\"Average fscore using KNN with 5 neighbors = \" + str(avgscore))\n",
    "print()"
   ]
  },
  {
   "attachments": {},
   "cell_type": "markdown",
   "metadata": {},
   "source": [
    "Looks like we still have the same 100% accuracy and f-score for each run. Let us first visualize what our data looks like."
   ]
  },
  {
   "cell_type": "code",
   "execution_count": 105,
   "metadata": {},
   "outputs": [
    {
     "data": {
      "image/png": "[encoded data removed]",
      "text/plain": [
       "<Figure size 576x432 with 1 Axes>"
      ]
     },
     "metadata": {
      "needs_background": "light"
     },
     "output_type": "display_data"
    }
   ],
   "source": [
    "import matplotlib.pyplot as plt\n",
    "import pandas as pd\n",
    "\n",
    "# Create a dictionary to map class labels to colors\n",
    "class_colors = {'Clothing': 'red', 'Cosmetics': 'blue', 'Technology': 'green', 'Food & Beverage': 'purple'}\n",
    "\n",
    "# Plotting the scatter plot\n",
    "plt.figure(figsize=(8, 6))\n",
    "\n",
    "for category, color in class_colors.items():\n",
    "    class_data = df_normalized[df_normalized['category'] == category]\n",
    "    plt.scatter(class_data['normalized_age'], class_data['normalized_price'], color=color, label=category)\n",
    "\n",
    "plt.xlabel('Age')\n",
    "plt.ylabel('Total Price')\n",
    "plt.title('Scatter Plot of Data Points')\n",
    "plt.legend()\n",
    "plt.show()"
   ]
  },
  {
   "attachments": {},
   "cell_type": "markdown",
   "metadata": {},
   "source": [
    "It looks like our dataset has a very strange spread - It looks like every category has multiple \"levels\" of cost and they remain consistent across the ages. I wanted to plot out the means for each of the datasets, to see where they are located. "
   ]
  },
  {
   "cell_type": "code",
   "execution_count": 106,
   "metadata": {},
   "outputs": [
    {
     "data": {
      "image/png": "[encoded data removed]",
      "text/plain": [
       "<Figure size 576x432 with 1 Axes>"
      ]
     },
     "metadata": {
      "needs_background": "light"
     },
     "output_type": "display_data"
    }
   ],
   "source": [
    "# Create a dictionary to map class labels to colors\n",
    "class_colors = {'Clothing': 'red', 'Cosmetics': 'blue', 'Technology': 'green', 'Food & Beverage': 'purple'}\n",
    "\n",
    "class_means = df_normalized.groupby('category').mean()\n",
    "\n",
    "plt.figure(figsize=(8, 6))\n",
    "\n",
    "for category, color in class_colors.items():\n",
    "    mean_age = class_means.loc[category, 'normalized_age']\n",
    "    mean_price = class_means.loc[category, 'normalized_price']\n",
    "    plt.scatter(mean_age, mean_price, color=color, label=category)\n",
    "\n",
    "plt.xlabel('Age')\n",
    "plt.ylabel('Total Price')\n",
    "plt.title('Scatter Plot of Mean Values')\n",
    "plt.legend()\n",
    "plt.show()"
   ]
  },
  {
   "attachments": {},
   "cell_type": "markdown",
   "metadata": {},
   "source": [
    "It looks like the means for each dataset are distinctly located and very different from each other. As mentione before, this unusual spread of the dataset could be the reasoning behind the 100% accuracy. "
   ]
  },
  {
   "attachments": {},
   "cell_type": "markdown",
   "metadata": {},
   "source": [
    "Lets look at a plot of accuracy vs. k to see how it changes as we increase the k for this particular dataset. "
   ]
  },
  {
   "attachments": {},
   "cell_type": "markdown",
   "metadata": {},
   "source": [
    "### Accuracy vs. K "
   ]
  },
  {
   "cell_type": "code",
   "execution_count": 107,
   "metadata": {},
   "outputs": [],
   "source": [
    "# Split the data into features and target\n",
    "X = df_dummy\n",
    "y = df['category']\n",
    "\n",
    "# Split the data into training and testing sets\n",
    "X_train, X_test, y_train, y_test = train_test_split(X, y, test_size=0.2, random_state=42)"
   ]
  },
  {
   "cell_type": "code",
   "execution_count": 108,
   "metadata": {},
   "outputs": [
    {
     "data": {
      "text/plain": [
       "Text(0, 0.5, 'Accuracy')"
      ]
     },
     "execution_count": 108,
     "metadata": {},
     "output_type": "execute_result"
    },
    {
     "data": {
      "image/png": "[encoded data removed]",
      "text/plain": [
       "<Figure size 720x432 with 1 Axes>"
      ]
     },
     "metadata": {
      "needs_background": "light"
     },
     "output_type": "display_data"
    }
   ],
   "source": [
    "acc = []\n",
    "for i in range(1,40):\n",
    "    neigh = KNeighborsClassifier(n_neighbors = i).fit(X_train,y_train)\n",
    "    yhat = neigh.predict(X_test)\n",
    "    acc.append(accuracy_score(y_test, yhat))\n",
    "    \n",
    "plt.figure(figsize=(10,6))\n",
    "plt.plot(range(1,40),acc,color = 'blue', \n",
    "         marker='o',markerfacecolor='red')\n",
    "plt.title('Accuracy vs. K Value')\n",
    "plt.xlabel('K')\n",
    "plt.ylabel('Accuracy')"
   ]
  },
  {
   "cell_type": "code",
   "execution_count": 109,
   "metadata": {},
   "outputs": [
    {
     "data": {
      "text/plain": [
       "Text(0, 0.5, 'F1-score')"
      ]
     },
     "execution_count": 109,
     "metadata": {},
     "output_type": "execute_result"
    },
    {
     "data": {
      "image/png": "[encoded data removed]",
      "text/plain": [
       "<Figure size 720x432 with 1 Axes>"
      ]
     },
     "metadata": {
      "needs_background": "light"
     },
     "output_type": "display_data"
    }
   ],
   "source": [
    "fscore = []\n",
    "for i in range(1,40):\n",
    "    neigh = KNeighborsClassifier(n_neighbors = i).fit(X_train,y_train)\n",
    "    yhat = neigh.predict(X_test)\n",
    "    fscore.append(f1_score(y_test, yhat,  average=\"weighted\"))\n",
    "    \n",
    "plt.figure(figsize=(10,6))\n",
    "plt.plot(range(1,40),fscore,color = 'blue', \n",
    "         marker='o',markerfacecolor='red')\n",
    "plt.title('F1-score vs. K Value')\n",
    "plt.xlabel('K')\n",
    "plt.ylabel('F1-score')"
   ]
  },
  {
   "attachments": {},
   "cell_type": "markdown",
   "metadata": {},
   "source": [
    "It looks like the accuracy pretty much remains at a 100% until just over k=15 where it starts to drop. However, even though the drop looks steep, it does not drop by a lot in magnitude, only going to just less than 99% accuracy even with k = 40. We see that the F1-score follows a similar structure as well, remaining at a 100% until about k = 20. It looks like for the nature of this dataset where the distribition is such that the mean and standard deviations for the relevant feature that we are using (total_price) is so different from category to category, KNN, a distance-based algorithm, seems to be able to segment the categories really well due to this distribution. "
   ]
  },
  {
   "attachments": {},
   "cell_type": "markdown",
   "metadata": {},
   "source": [
    "## Conclusion"
   ]
  },
  {
   "attachments": {},
   "cell_type": "markdown",
   "metadata": {},
   "source": [
    "Naive-Bayes Performs Best due to Complexity of the model, whereas Naive-Bayes is more simpler and general. Due to the unusual nature of the distribution of this dataset, KNN -  a distanced based algorithm - performs very well in classifying the data points into different clusters. If we had more relevant features for classifying categorues with greater variation, we would have been able to create a much more informative models. Unfortunately, as we only had to go off of total_price and age (as gender or shopping mall were deemed not as important), ....."
   ]
  },
  {
   "attachments": {},
   "cell_type": "markdown",
   "metadata": {},
   "source": [
    "## Policy Recommendation \n",
    "The performance of these models could be improved by: "
   ]
  }
 ],
 "metadata": {
  "kernelspec": {
   "display_name": "Python 3",
   "language": "python",
   "name": "python3"
  },
  "language_info": {
   "codemirror_mode": {
    "name": "ipython",
    "version": 3
   },
   "file_extension": ".py",
   "mimetype": "text/x-python",
   "name": "python",
   "nbconvert_exporter": "python",
   "pygments_lexer": "ipython3",
   "version": "3.10.2"
  },
  "orig_nbformat": 4
 },
 "nbformat": 4,
 "nbformat_minor": 2
}
